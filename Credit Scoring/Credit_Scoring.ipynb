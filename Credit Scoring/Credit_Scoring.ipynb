{
 "cells": [
  {
   "cell_type": "markdown",
   "id": "c6fab8fc-30b6-4e7e-805a-446f009d76d2",
   "metadata": {},
   "source": [
    "https://www.kaggle.com/datasets/prasy46/credit-score-prediction\n",
    "\n",
    "https://www.kaggle.com/datasets/parisrohan/credit-score-classification?select=train.csv\n",
    "\n",
    "https://github.com/max-fitzpatrick/Credit-scoring-model/blob/master/CREDIT_SCORING_NOTEBOOK.ipynb"
   ]
  },
  {
   "cell_type": "code",
   "execution_count": null,
   "id": "d807073d-0657-4437-beac-735f8c649892",
   "metadata": {},
   "outputs": [],
   "source": [
    "!kaggle datasets download -d parisrohan/credit-score-classification"
   ]
  },
  {
   "cell_type": "markdown",
   "id": "c4ae8ee7-6c0c-43d3-9262-915ab8b5dc81",
   "metadata": {},
   "source": [
    "# Imports"
   ]
  },
  {
   "cell_type": "code",
   "execution_count": 1,
   "id": "f8e7650a-04dc-4384-90a3-1956018572e7",
   "metadata": {
    "tags": []
   },
   "outputs": [],
   "source": [
    "import pandas as pd\n",
    "import numpy as np\n",
    "\n",
    "import os\n",
    "import sys\n",
    "\n",
    "import seaborn as sns\n",
    "import matplotlib.pyplot as plt\n",
    "\n",
    "from sklearn.preprocessing import StandardScaler, OneHotEncoder\n",
    "from sklearn.metrics import confusion_matrix, classification_report\n",
    "from sklearn.model_selection import train_test_split\n",
    "from sklearn.impute import KNNImputer,SimpleImputer\n",
    "\n",
    "from datasist.structdata import detect_outliers\n",
    "\n",
    "import tensorflow as tf\n",
    "from tensorflow.keras.callbacks import ReduceLROnPlateau, ModelCheckpoint, EarlyStopping\n",
    "from tensorflow.keras.models import Sequential\n",
    "from tensorflow.keras.layers import Dense, Flatten, Dropout, BatchNormalization\n",
    "from tensorflow.keras.metrics import Precision, Recall, Accuracy\n",
    "from tensorflow.keras.optimizers import SGD"
   ]
  },
  {
   "cell_type": "code",
   "execution_count": 2,
   "id": "1e1f1e72-5192-4d91-ac29-8edcaefc54a2",
   "metadata": {
    "tags": []
   },
   "outputs": [
    {
     "data": {
      "text/plain": [
       "[PhysicalDevice(name='/physical_device:GPU:0', device_type='GPU')]"
      ]
     },
     "execution_count": 2,
     "metadata": {},
     "output_type": "execute_result"
    }
   ],
   "source": [
    "tf.config.list_physical_devices('GPU')"
   ]
  },
  {
   "cell_type": "code",
   "execution_count": 166,
   "id": "59478662-2b87-44fc-ac8b-941fa045d124",
   "metadata": {
    "tags": []
   },
   "outputs": [],
   "source": [
    "train_df = pd.read_csv('./credit-score-classification/train.csv',low_memory=False)\n",
    "test_df = pd.read_csv('./credit-score-classification/test.csv',low_memory=False)"
   ]
  },
  {
   "cell_type": "markdown",
   "id": "e0b85c51-b615-4198-ba89-04c12ed65656",
   "metadata": {},
   "source": [
    "# Data Visualization"
   ]
  },
  {
   "cell_type": "code",
   "execution_count": 4,
   "id": "70665367-3022-4348-b2d9-95139220c911",
   "metadata": {
    "tags": []
   },
   "outputs": [
    {
     "data": {
      "text/html": [
       "<div>\n",
       "<style scoped>\n",
       "    .dataframe tbody tr th:only-of-type {\n",
       "        vertical-align: middle;\n",
       "    }\n",
       "\n",
       "    .dataframe tbody tr th {\n",
       "        vertical-align: top;\n",
       "    }\n",
       "\n",
       "    .dataframe thead th {\n",
       "        text-align: right;\n",
       "    }\n",
       "</style>\n",
       "<table border=\"1\" class=\"dataframe\">\n",
       "  <thead>\n",
       "    <tr style=\"text-align: right;\">\n",
       "      <th></th>\n",
       "      <th>ID</th>\n",
       "      <th>Customer_ID</th>\n",
       "      <th>Month</th>\n",
       "      <th>Name</th>\n",
       "      <th>Age</th>\n",
       "      <th>SSN</th>\n",
       "      <th>Occupation</th>\n",
       "      <th>Annual_Income</th>\n",
       "      <th>Monthly_Inhand_Salary</th>\n",
       "      <th>Num_Bank_Accounts</th>\n",
       "      <th>...</th>\n",
       "      <th>Credit_Mix</th>\n",
       "      <th>Outstanding_Debt</th>\n",
       "      <th>Credit_Utilization_Ratio</th>\n",
       "      <th>Credit_History_Age</th>\n",
       "      <th>Payment_of_Min_Amount</th>\n",
       "      <th>Total_EMI_per_month</th>\n",
       "      <th>Amount_invested_monthly</th>\n",
       "      <th>Payment_Behaviour</th>\n",
       "      <th>Monthly_Balance</th>\n",
       "      <th>Credit_Score</th>\n",
       "    </tr>\n",
       "  </thead>\n",
       "  <tbody>\n",
       "    <tr>\n",
       "      <th>0</th>\n",
       "      <td>0x1602</td>\n",
       "      <td>CUS_0xd40</td>\n",
       "      <td>January</td>\n",
       "      <td>Aaron Maashoh</td>\n",
       "      <td>23</td>\n",
       "      <td>821-00-0265</td>\n",
       "      <td>Scientist</td>\n",
       "      <td>19114.12</td>\n",
       "      <td>1824.843333</td>\n",
       "      <td>3</td>\n",
       "      <td>...</td>\n",
       "      <td>_</td>\n",
       "      <td>809.98</td>\n",
       "      <td>26.822620</td>\n",
       "      <td>22 Years and 1 Months</td>\n",
       "      <td>No</td>\n",
       "      <td>49.574949</td>\n",
       "      <td>80.41529543900253</td>\n",
       "      <td>High_spent_Small_value_payments</td>\n",
       "      <td>312.49408867943663</td>\n",
       "      <td>Good</td>\n",
       "    </tr>\n",
       "    <tr>\n",
       "      <th>1</th>\n",
       "      <td>0x1603</td>\n",
       "      <td>CUS_0xd40</td>\n",
       "      <td>February</td>\n",
       "      <td>Aaron Maashoh</td>\n",
       "      <td>23</td>\n",
       "      <td>821-00-0265</td>\n",
       "      <td>Scientist</td>\n",
       "      <td>19114.12</td>\n",
       "      <td>NaN</td>\n",
       "      <td>3</td>\n",
       "      <td>...</td>\n",
       "      <td>Good</td>\n",
       "      <td>809.98</td>\n",
       "      <td>31.944960</td>\n",
       "      <td>NaN</td>\n",
       "      <td>No</td>\n",
       "      <td>49.574949</td>\n",
       "      <td>118.28022162236736</td>\n",
       "      <td>Low_spent_Large_value_payments</td>\n",
       "      <td>284.62916249607184</td>\n",
       "      <td>Good</td>\n",
       "    </tr>\n",
       "    <tr>\n",
       "      <th>2</th>\n",
       "      <td>0x1604</td>\n",
       "      <td>CUS_0xd40</td>\n",
       "      <td>March</td>\n",
       "      <td>Aaron Maashoh</td>\n",
       "      <td>-500</td>\n",
       "      <td>821-00-0265</td>\n",
       "      <td>Scientist</td>\n",
       "      <td>19114.12</td>\n",
       "      <td>NaN</td>\n",
       "      <td>3</td>\n",
       "      <td>...</td>\n",
       "      <td>Good</td>\n",
       "      <td>809.98</td>\n",
       "      <td>28.609352</td>\n",
       "      <td>22 Years and 3 Months</td>\n",
       "      <td>No</td>\n",
       "      <td>49.574949</td>\n",
       "      <td>81.699521264648</td>\n",
       "      <td>Low_spent_Medium_value_payments</td>\n",
       "      <td>331.2098628537912</td>\n",
       "      <td>Good</td>\n",
       "    </tr>\n",
       "    <tr>\n",
       "      <th>3</th>\n",
       "      <td>0x1605</td>\n",
       "      <td>CUS_0xd40</td>\n",
       "      <td>April</td>\n",
       "      <td>Aaron Maashoh</td>\n",
       "      <td>23</td>\n",
       "      <td>821-00-0265</td>\n",
       "      <td>Scientist</td>\n",
       "      <td>19114.12</td>\n",
       "      <td>NaN</td>\n",
       "      <td>3</td>\n",
       "      <td>...</td>\n",
       "      <td>Good</td>\n",
       "      <td>809.98</td>\n",
       "      <td>31.377862</td>\n",
       "      <td>22 Years and 4 Months</td>\n",
       "      <td>No</td>\n",
       "      <td>49.574949</td>\n",
       "      <td>199.4580743910713</td>\n",
       "      <td>Low_spent_Small_value_payments</td>\n",
       "      <td>223.45130972736786</td>\n",
       "      <td>Good</td>\n",
       "    </tr>\n",
       "    <tr>\n",
       "      <th>4</th>\n",
       "      <td>0x1606</td>\n",
       "      <td>CUS_0xd40</td>\n",
       "      <td>May</td>\n",
       "      <td>Aaron Maashoh</td>\n",
       "      <td>23</td>\n",
       "      <td>821-00-0265</td>\n",
       "      <td>Scientist</td>\n",
       "      <td>19114.12</td>\n",
       "      <td>1824.843333</td>\n",
       "      <td>3</td>\n",
       "      <td>...</td>\n",
       "      <td>Good</td>\n",
       "      <td>809.98</td>\n",
       "      <td>24.797347</td>\n",
       "      <td>22 Years and 5 Months</td>\n",
       "      <td>No</td>\n",
       "      <td>49.574949</td>\n",
       "      <td>41.420153086217326</td>\n",
       "      <td>High_spent_Medium_value_payments</td>\n",
       "      <td>341.48923103222177</td>\n",
       "      <td>Good</td>\n",
       "    </tr>\n",
       "  </tbody>\n",
       "</table>\n",
       "<p>5 rows × 28 columns</p>\n",
       "</div>"
      ],
      "text/plain": [
       "       ID Customer_ID     Month           Name   Age          SSN Occupation  \\\n",
       "0  0x1602   CUS_0xd40   January  Aaron Maashoh    23  821-00-0265  Scientist   \n",
       "1  0x1603   CUS_0xd40  February  Aaron Maashoh    23  821-00-0265  Scientist   \n",
       "2  0x1604   CUS_0xd40     March  Aaron Maashoh  -500  821-00-0265  Scientist   \n",
       "3  0x1605   CUS_0xd40     April  Aaron Maashoh    23  821-00-0265  Scientist   \n",
       "4  0x1606   CUS_0xd40       May  Aaron Maashoh    23  821-00-0265  Scientist   \n",
       "\n",
       "  Annual_Income  Monthly_Inhand_Salary  Num_Bank_Accounts  ...  Credit_Mix  \\\n",
       "0      19114.12            1824.843333                  3  ...           _   \n",
       "1      19114.12                    NaN                  3  ...        Good   \n",
       "2      19114.12                    NaN                  3  ...        Good   \n",
       "3      19114.12                    NaN                  3  ...        Good   \n",
       "4      19114.12            1824.843333                  3  ...        Good   \n",
       "\n",
       "   Outstanding_Debt Credit_Utilization_Ratio     Credit_History_Age  \\\n",
       "0            809.98                26.822620  22 Years and 1 Months   \n",
       "1            809.98                31.944960                    NaN   \n",
       "2            809.98                28.609352  22 Years and 3 Months   \n",
       "3            809.98                31.377862  22 Years and 4 Months   \n",
       "4            809.98                24.797347  22 Years and 5 Months   \n",
       "\n",
       "   Payment_of_Min_Amount Total_EMI_per_month Amount_invested_monthly  \\\n",
       "0                     No           49.574949       80.41529543900253   \n",
       "1                     No           49.574949      118.28022162236736   \n",
       "2                     No           49.574949         81.699521264648   \n",
       "3                     No           49.574949       199.4580743910713   \n",
       "4                     No           49.574949      41.420153086217326   \n",
       "\n",
       "                  Payment_Behaviour     Monthly_Balance Credit_Score  \n",
       "0   High_spent_Small_value_payments  312.49408867943663         Good  \n",
       "1    Low_spent_Large_value_payments  284.62916249607184         Good  \n",
       "2   Low_spent_Medium_value_payments   331.2098628537912         Good  \n",
       "3    Low_spent_Small_value_payments  223.45130972736786         Good  \n",
       "4  High_spent_Medium_value_payments  341.48923103222177         Good  \n",
       "\n",
       "[5 rows x 28 columns]"
      ]
     },
     "execution_count": 4,
     "metadata": {},
     "output_type": "execute_result"
    }
   ],
   "source": [
    "train_df.head()"
   ]
  },
  {
   "cell_type": "code",
   "execution_count": 6,
   "id": "3436b863-59db-4934-a35d-21deca7f06c5",
   "metadata": {
    "tags": []
   },
   "outputs": [
    {
     "data": {
      "text/plain": [
       "(100000, 50000)"
      ]
     },
     "execution_count": 6,
     "metadata": {},
     "output_type": "execute_result"
    }
   ],
   "source": [
    "len(train_df), len(test_df)"
   ]
  },
  {
   "cell_type": "code",
   "execution_count": 12,
   "id": "f0470d0f-b8ba-4ee8-a0ac-977d60dff5bf",
   "metadata": {
    "tags": []
   },
   "outputs": [
    {
     "data": {
      "text/plain": [
       "((100000, 28), (50000, 27))"
      ]
     },
     "execution_count": 12,
     "metadata": {},
     "output_type": "execute_result"
    }
   ],
   "source": [
    "train_df.shape, test_df.shape"
   ]
  },
  {
   "cell_type": "code",
   "execution_count": 13,
   "id": "bb537c4a-ebfa-4fbe-ac14-5287bdc2458e",
   "metadata": {
    "tags": []
   },
   "outputs": [
    {
     "name": "stdout",
     "output_type": "stream",
     "text": [
      "<class 'pandas.core.frame.DataFrame'>\n",
      "RangeIndex: 100000 entries, 0 to 99999\n",
      "Data columns (total 28 columns):\n",
      " #   Column                    Non-Null Count   Dtype  \n",
      "---  ------                    --------------   -----  \n",
      " 0   ID                        100000 non-null  object \n",
      " 1   Customer_ID               100000 non-null  object \n",
      " 2   Month                     100000 non-null  object \n",
      " 3   Name                      90015 non-null   object \n",
      " 4   Age                       100000 non-null  object \n",
      " 5   SSN                       100000 non-null  object \n",
      " 6   Occupation                100000 non-null  object \n",
      " 7   Annual_Income             100000 non-null  object \n",
      " 8   Monthly_Inhand_Salary     84998 non-null   float64\n",
      " 9   Num_Bank_Accounts         100000 non-null  int64  \n",
      " 10  Num_Credit_Card           100000 non-null  int64  \n",
      " 11  Interest_Rate             100000 non-null  int64  \n",
      " 12  Num_of_Loan               100000 non-null  object \n",
      " 13  Type_of_Loan              88592 non-null   object \n",
      " 14  Delay_from_due_date       100000 non-null  int64  \n",
      " 15  Num_of_Delayed_Payment    92998 non-null   object \n",
      " 16  Changed_Credit_Limit      100000 non-null  object \n",
      " 17  Num_Credit_Inquiries      98035 non-null   float64\n",
      " 18  Credit_Mix                100000 non-null  object \n",
      " 19  Outstanding_Debt          100000 non-null  object \n",
      " 20  Credit_Utilization_Ratio  100000 non-null  float64\n",
      " 21  Credit_History_Age        90970 non-null   object \n",
      " 22  Payment_of_Min_Amount     100000 non-null  object \n",
      " 23  Total_EMI_per_month       100000 non-null  float64\n",
      " 24  Amount_invested_monthly   95521 non-null   object \n",
      " 25  Payment_Behaviour         100000 non-null  object \n",
      " 26  Monthly_Balance           98800 non-null   object \n",
      " 27  Credit_Score              100000 non-null  object \n",
      "dtypes: float64(4), int64(4), object(20)\n",
      "memory usage: 21.4+ MB\n"
     ]
    }
   ],
   "source": [
    "train_df.info()"
   ]
  },
  {
   "cell_type": "code",
   "execution_count": 14,
   "id": "52542857-3a41-4917-bd33-f99da8a0d3cc",
   "metadata": {
    "tags": []
   },
   "outputs": [
    {
     "data": {
      "text/plain": [
       "ID                              0\n",
       "Customer_ID                     0\n",
       "Month                           0\n",
       "Name                         9985\n",
       "Age                             0\n",
       "SSN                             0\n",
       "Occupation                      0\n",
       "Annual_Income                   0\n",
       "Monthly_Inhand_Salary       15002\n",
       "Num_Bank_Accounts               0\n",
       "Num_Credit_Card                 0\n",
       "Interest_Rate                   0\n",
       "Num_of_Loan                     0\n",
       "Type_of_Loan                11408\n",
       "Delay_from_due_date             0\n",
       "Num_of_Delayed_Payment       7002\n",
       "Changed_Credit_Limit            0\n",
       "Num_Credit_Inquiries         1965\n",
       "Credit_Mix                      0\n",
       "Outstanding_Debt                0\n",
       "Credit_Utilization_Ratio        0\n",
       "Credit_History_Age           9030\n",
       "Payment_of_Min_Amount           0\n",
       "Total_EMI_per_month             0\n",
       "Amount_invested_monthly      4479\n",
       "Payment_Behaviour               0\n",
       "Monthly_Balance              1200\n",
       "Credit_Score                    0\n",
       "dtype: int64"
      ]
     },
     "execution_count": 14,
     "metadata": {},
     "output_type": "execute_result"
    }
   ],
   "source": [
    "train_df.isna().sum()"
   ]
  },
  {
   "cell_type": "code",
   "execution_count": 16,
   "id": "b226b521-de88-4280-a941-9a4def73dd95",
   "metadata": {
    "tags": []
   },
   "outputs": [
    {
     "data": {
      "text/html": [
       "<div>\n",
       "<style scoped>\n",
       "    .dataframe tbody tr th:only-of-type {\n",
       "        vertical-align: middle;\n",
       "    }\n",
       "\n",
       "    .dataframe tbody tr th {\n",
       "        vertical-align: top;\n",
       "    }\n",
       "\n",
       "    .dataframe thead th {\n",
       "        text-align: right;\n",
       "    }\n",
       "</style>\n",
       "<table border=\"1\" class=\"dataframe\">\n",
       "  <thead>\n",
       "    <tr style=\"text-align: right;\">\n",
       "      <th></th>\n",
       "      <th>count</th>\n",
       "      <th>mean</th>\n",
       "      <th>std</th>\n",
       "      <th>min</th>\n",
       "      <th>25%</th>\n",
       "      <th>50%</th>\n",
       "      <th>75%</th>\n",
       "      <th>max</th>\n",
       "    </tr>\n",
       "  </thead>\n",
       "  <tbody>\n",
       "    <tr>\n",
       "      <th>Monthly_Inhand_Salary</th>\n",
       "      <td>84998.0</td>\n",
       "      <td>4194.170850</td>\n",
       "      <td>3183.686167</td>\n",
       "      <td>303.645417</td>\n",
       "      <td>1625.568229</td>\n",
       "      <td>3093.745000</td>\n",
       "      <td>5957.448333</td>\n",
       "      <td>15204.633333</td>\n",
       "    </tr>\n",
       "    <tr>\n",
       "      <th>Num_Bank_Accounts</th>\n",
       "      <td>100000.0</td>\n",
       "      <td>17.091280</td>\n",
       "      <td>117.404834</td>\n",
       "      <td>-1.000000</td>\n",
       "      <td>3.000000</td>\n",
       "      <td>6.000000</td>\n",
       "      <td>7.000000</td>\n",
       "      <td>1798.000000</td>\n",
       "    </tr>\n",
       "    <tr>\n",
       "      <th>Num_Credit_Card</th>\n",
       "      <td>100000.0</td>\n",
       "      <td>22.474430</td>\n",
       "      <td>129.057410</td>\n",
       "      <td>0.000000</td>\n",
       "      <td>4.000000</td>\n",
       "      <td>5.000000</td>\n",
       "      <td>7.000000</td>\n",
       "      <td>1499.000000</td>\n",
       "    </tr>\n",
       "    <tr>\n",
       "      <th>Interest_Rate</th>\n",
       "      <td>100000.0</td>\n",
       "      <td>72.466040</td>\n",
       "      <td>466.422621</td>\n",
       "      <td>1.000000</td>\n",
       "      <td>8.000000</td>\n",
       "      <td>13.000000</td>\n",
       "      <td>20.000000</td>\n",
       "      <td>5797.000000</td>\n",
       "    </tr>\n",
       "    <tr>\n",
       "      <th>Delay_from_due_date</th>\n",
       "      <td>100000.0</td>\n",
       "      <td>21.068780</td>\n",
       "      <td>14.860104</td>\n",
       "      <td>-5.000000</td>\n",
       "      <td>10.000000</td>\n",
       "      <td>18.000000</td>\n",
       "      <td>28.000000</td>\n",
       "      <td>67.000000</td>\n",
       "    </tr>\n",
       "    <tr>\n",
       "      <th>Num_Credit_Inquiries</th>\n",
       "      <td>98035.0</td>\n",
       "      <td>27.754251</td>\n",
       "      <td>193.177339</td>\n",
       "      <td>0.000000</td>\n",
       "      <td>3.000000</td>\n",
       "      <td>6.000000</td>\n",
       "      <td>9.000000</td>\n",
       "      <td>2597.000000</td>\n",
       "    </tr>\n",
       "    <tr>\n",
       "      <th>Credit_Utilization_Ratio</th>\n",
       "      <td>100000.0</td>\n",
       "      <td>32.285173</td>\n",
       "      <td>5.116875</td>\n",
       "      <td>20.000000</td>\n",
       "      <td>28.052567</td>\n",
       "      <td>32.305784</td>\n",
       "      <td>36.496663</td>\n",
       "      <td>50.000000</td>\n",
       "    </tr>\n",
       "    <tr>\n",
       "      <th>Total_EMI_per_month</th>\n",
       "      <td>100000.0</td>\n",
       "      <td>1403.118217</td>\n",
       "      <td>8306.041270</td>\n",
       "      <td>0.000000</td>\n",
       "      <td>30.306660</td>\n",
       "      <td>69.249473</td>\n",
       "      <td>161.224249</td>\n",
       "      <td>82331.000000</td>\n",
       "    </tr>\n",
       "  </tbody>\n",
       "</table>\n",
       "</div>"
      ],
      "text/plain": [
       "                             count         mean          std         min  \\\n",
       "Monthly_Inhand_Salary      84998.0  4194.170850  3183.686167  303.645417   \n",
       "Num_Bank_Accounts         100000.0    17.091280   117.404834   -1.000000   \n",
       "Num_Credit_Card           100000.0    22.474430   129.057410    0.000000   \n",
       "Interest_Rate             100000.0    72.466040   466.422621    1.000000   \n",
       "Delay_from_due_date       100000.0    21.068780    14.860104   -5.000000   \n",
       "Num_Credit_Inquiries       98035.0    27.754251   193.177339    0.000000   \n",
       "Credit_Utilization_Ratio  100000.0    32.285173     5.116875   20.000000   \n",
       "Total_EMI_per_month       100000.0  1403.118217  8306.041270    0.000000   \n",
       "\n",
       "                                  25%          50%          75%           max  \n",
       "Monthly_Inhand_Salary     1625.568229  3093.745000  5957.448333  15204.633333  \n",
       "Num_Bank_Accounts            3.000000     6.000000     7.000000   1798.000000  \n",
       "Num_Credit_Card              4.000000     5.000000     7.000000   1499.000000  \n",
       "Interest_Rate                8.000000    13.000000    20.000000   5797.000000  \n",
       "Delay_from_due_date         10.000000    18.000000    28.000000     67.000000  \n",
       "Num_Credit_Inquiries         3.000000     6.000000     9.000000   2597.000000  \n",
       "Credit_Utilization_Ratio    28.052567    32.305784    36.496663     50.000000  \n",
       "Total_EMI_per_month         30.306660    69.249473   161.224249  82331.000000  "
      ]
     },
     "execution_count": 16,
     "metadata": {},
     "output_type": "execute_result"
    }
   ],
   "source": [
    "train_df.describe().T"
   ]
  },
  {
   "cell_type": "code",
   "execution_count": 18,
   "id": "074f1172-5cc1-467e-b975-d874181a3c5c",
   "metadata": {
    "tags": []
   },
   "outputs": [
    {
     "data": {
      "text/plain": [
       "0"
      ]
     },
     "execution_count": 18,
     "metadata": {},
     "output_type": "execute_result"
    }
   ],
   "source": [
    "train_df.duplicated().sum()"
   ]
  },
  {
   "cell_type": "code",
   "execution_count": 46,
   "id": "bfc45382-6446-4468-a819-72a66e29b2f4",
   "metadata": {
    "tags": []
   },
   "outputs": [],
   "source": [
    "def plot_col_counts(df,column,figsize=(10,5)):\n",
    "    plt.figure(figsize=figsize)\n",
    "    sns.countplot(x=df[column],palette=\"mako\",hue=df[column])\n",
    "    plt.xlabel(column, size=12)\n",
    "    plt.xticks(rotation=45)\n",
    "    plt.show()"
   ]
  },
  {
   "cell_type": "code",
   "execution_count": 49,
   "id": "534bd2dc-40a9-43fe-8325-f24662e98c09",
   "metadata": {
    "tags": []
   },
   "outputs": [
    {
     "data": {
      "image/png": "[encoded data removed]",
      "text/plain": [
       "<Figure size 1000x500 with 1 Axes>"
      ]
     },
     "metadata": {},
     "output_type": "display_data"
    }
   ],
   "source": [
    "plot_col_counts(train_df, 'Month')"
   ]
  },
  {
   "cell_type": "code",
   "execution_count": 50,
   "id": "0a9e36e8-062a-4b05-8d1d-42531eb606b5",
   "metadata": {
    "tags": []
   },
   "outputs": [
    {
     "data": {
      "image/png": "[encoded data removed]",
      "text/plain": [
       "<Figure size 1000x500 with 1 Axes>"
      ]
     },
     "metadata": {},
     "output_type": "display_data"
    }
   ],
   "source": [
    "plot_col_counts(train_df, 'Occupation')"
   ]
  },
  {
   "cell_type": "code",
   "execution_count": 51,
   "id": "bb247db1-daf4-4051-873f-9c4af2ea8fee",
   "metadata": {
    "tags": []
   },
   "outputs": [
    {
     "data": {
      "image/png": "[encoded data removed]",
      "text/plain": [
       "<Figure size 1000x500 with 1 Axes>"
      ]
     },
     "metadata": {},
     "output_type": "display_data"
    }
   ],
   "source": [
    "plot_col_counts(train_df, 'Credit_Mix')"
   ]
  },
  {
   "cell_type": "code",
   "execution_count": 52,
   "id": "a0fb59a5-9259-40d8-b1ef-790cb9839171",
   "metadata": {
    "tags": []
   },
   "outputs": [
    {
     "data": {
      "image/png": "[encoded data removed]",
      "text/plain": [
       "<Figure size 1000x500 with 1 Axes>"
      ]
     },
     "metadata": {},
     "output_type": "display_data"
    }
   ],
   "source": [
    "plot_col_counts(train_df, 'Payment_of_Min_Amount')"
   ]
  },
  {
   "cell_type": "code",
   "execution_count": 53,
   "id": "be36e923-cb82-4039-8ea4-17094ef55b46",
   "metadata": {
    "tags": []
   },
   "outputs": [
    {
     "data": {
      "image/png": "[encoded data removed]",
      "text/plain": [
       "<Figure size 2000x1000 with 1 Axes>"
      ]
     },
     "metadata": {},
     "output_type": "display_data"
    }
   ],
   "source": [
    "plot_col_counts(train_df, 'Payment_Behaviour',figsize=(20,10))"
   ]
  },
  {
   "cell_type": "code",
   "execution_count": 56,
   "id": "4a5abafe-f4e5-4fc7-99e3-0ae528a5df06",
   "metadata": {
    "tags": []
   },
   "outputs": [
    {
     "data": {
      "image/png": "[encoded data removed]",
      "text/plain": [
       "<Figure size 1000x500 with 1 Axes>"
      ]
     },
     "metadata": {},
     "output_type": "display_data"
    }
   ],
   "source": [
    "plot_col_counts(train_df, 'Credit_Score')"
   ]
  },
  {
   "cell_type": "code",
   "execution_count": 55,
   "id": "1e7fe459-ecd0-44ea-b484-1e760908dac1",
   "metadata": {
    "tags": []
   },
   "outputs": [
    {
     "data": {
      "text/plain": [
       "Credit_Score\n",
       "Standard    0.53174\n",
       "Poor        0.28998\n",
       "Good        0.17828\n",
       "Name: proportion, dtype: float64"
      ]
     },
     "execution_count": 55,
     "metadata": {},
     "output_type": "execute_result"
    }
   ],
   "source": [
    "train_df['Credit_Score'].value_counts(normalize=True)"
   ]
  },
  {
   "cell_type": "code",
   "execution_count": 69,
   "id": "42b414e9-2319-49f1-b407-6a51250ed328",
   "metadata": {
    "tags": []
   },
   "outputs": [],
   "source": [
    "def plot_distplot(column,df=train_df):\n",
    "    sns.displot(df[column],kde=True)"
   ]
  },
  {
   "cell_type": "code",
   "execution_count": 70,
   "id": "b57aba9e-ff5e-457b-b158-6f2f8ef963ee",
   "metadata": {
    "tags": []
   },
   "outputs": [
    {
     "data": {
      "image/png": "[encoded data removed]",
      "text/plain": [
       "<Figure size 500x500 with 1 Axes>"
      ]
     },
     "metadata": {},
     "output_type": "display_data"
    }
   ],
   "source": [
    "plot_distplot('Monthly_Inhand_Salary')"
   ]
  },
  {
   "cell_type": "code",
   "execution_count": 63,
   "id": "7920cea7-5cb6-4398-8c51-8b8f16c9f426",
   "metadata": {
    "tags": []
   },
   "outputs": [
    {
     "data": {
      "text/plain": [
       "Num_Bank_Accounts\n",
       "6       13001\n",
       "7       12823\n",
       "8       12765\n",
       "4       12186\n",
       "5       12118\n",
       "        ...  \n",
       "1626        1\n",
       "1470        1\n",
       "887         1\n",
       "211         1\n",
       "697         1\n",
       "Name: count, Length: 943, dtype: int64"
      ]
     },
     "execution_count": 63,
     "metadata": {},
     "output_type": "execute_result"
    }
   ],
   "source": [
    "train_df['Num_Bank_Accounts'].value_counts()"
   ]
  },
  {
   "cell_type": "code",
   "execution_count": 71,
   "id": "c2aea3e8-5d45-477a-8d17-a9a92960564d",
   "metadata": {
    "tags": []
   },
   "outputs": [
    {
     "name": "stderr",
     "output_type": "stream",
     "text": [
      "C:\\Users\\001\\AppData\\Local\\Temp\\ipykernel_18140\\3307175724.py:1: UserWarning: \n",
      "\n",
      "`distplot` is a deprecated function and will be removed in seaborn v0.14.0.\n",
      "\n",
      "Please adapt your code to use either `displot` (a figure-level function with\n",
      "similar flexibility) or `histplot` (an axes-level function for histograms).\n",
      "\n",
      "For a guide to updating your code to use the new functions, please see\n",
      "https://gist.github.com/mwaskom/de44147ed2974457ad6372750bbe5751\n",
      "\n",
      "  sns.distplot(x=train_df['Num_Bank_Accounts'])\n"
     ]
    },
    {
     "data": {
      "text/plain": [
       "<Axes: ylabel='Density'>"
      ]
     },
     "execution_count": 71,
     "metadata": {},
     "output_type": "execute_result"
    },
    {
     "data": {
      "image/png": "[encoded data removed]",
      "text/plain": [
       "<Figure size 640x480 with 1 Axes>"
      ]
     },
     "metadata": {},
     "output_type": "display_data"
    }
   ],
   "source": [
    "sns.distplot(x=train_df['Num_Bank_Accounts'])"
   ]
  },
  {
   "cell_type": "code",
   "execution_count": 79,
   "id": "ba3b6e28-f990-4559-96f1-7f2c0fdfc892",
   "metadata": {
    "tags": []
   },
   "outputs": [
    {
     "name": "stderr",
     "output_type": "stream",
     "text": [
      "C:\\Users\\001\\AppData\\Local\\Temp\\ipykernel_18140\\3018106928.py:1: UserWarning: \n",
      "\n",
      "`distplot` is a deprecated function and will be removed in seaborn v0.14.0.\n",
      "\n",
      "Please adapt your code to use either `displot` (a figure-level function with\n",
      "similar flexibility) or `histplot` (an axes-level function for histograms).\n",
      "\n",
      "For a guide to updating your code to use the new functions, please see\n",
      "https://gist.github.com/mwaskom/de44147ed2974457ad6372750bbe5751\n",
      "\n",
      "  sns.distplot(train_df['Num_Credit_Card'])\n"
     ]
    },
    {
     "data": {
      "text/plain": [
       "<Axes: xlabel='Num_Credit_Card', ylabel='Density'>"
      ]
     },
     "execution_count": 79,
     "metadata": {},
     "output_type": "execute_result"
    },
    {
     "data": {
      "image/png": "[encoded data removed]",
      "text/plain": [
       "<Figure size 640x480 with 1 Axes>"
      ]
     },
     "metadata": {},
     "output_type": "display_data"
    }
   ],
   "source": [
    "sns.distplot(train_df['Num_Credit_Card'])"
   ]
  },
  {
   "cell_type": "code",
   "execution_count": 80,
   "id": "fc256259-b00c-4f33-8674-b14e5a583177",
   "metadata": {
    "tags": []
   },
   "outputs": [
    {
     "name": "stderr",
     "output_type": "stream",
     "text": [
      "C:\\Users\\001\\AppData\\Local\\Temp\\ipykernel_18140\\4294712038.py:1: UserWarning: \n",
      "\n",
      "`distplot` is a deprecated function and will be removed in seaborn v0.14.0.\n",
      "\n",
      "Please adapt your code to use either `displot` (a figure-level function with\n",
      "similar flexibility) or `histplot` (an axes-level function for histograms).\n",
      "\n",
      "For a guide to updating your code to use the new functions, please see\n",
      "https://gist.github.com/mwaskom/de44147ed2974457ad6372750bbe5751\n",
      "\n",
      "  sns.distplot(train_df['Interest_Rate'])\n"
     ]
    },
    {
     "data": {
      "text/plain": [
       "<Axes: xlabel='Interest_Rate', ylabel='Density'>"
      ]
     },
     "execution_count": 80,
     "metadata": {},
     "output_type": "execute_result"
    },
    {
     "data": {
      "image/png": "[encoded data removed]",
      "text/plain": [
       "<Figure size 640x480 with 1 Axes>"
      ]
     },
     "metadata": {},
     "output_type": "display_data"
    }
   ],
   "source": [
    "sns.distplot(train_df['Interest_Rate'])"
   ]
  },
  {
   "cell_type": "code",
   "execution_count": 85,
   "id": "a8928389-6a07-4992-a58f-5d3ad9e5e8e3",
   "metadata": {
    "tags": []
   },
   "outputs": [
    {
     "data": {
      "image/png": "[encoded data removed]",
      "text/plain": [
       "<Figure size 500x500 with 1 Axes>"
      ]
     },
     "metadata": {},
     "output_type": "display_data"
    }
   ],
   "source": [
    "plot_distplot('Delay_from_due_date')"
   ]
  },
  {
   "cell_type": "code",
   "execution_count": 87,
   "id": "2b59d471-7e31-4638-9bf7-5609a314965a",
   "metadata": {
    "tags": []
   },
   "outputs": [
    {
     "name": "stderr",
     "output_type": "stream",
     "text": [
      "C:\\Users\\001\\AppData\\Local\\Temp\\ipykernel_18140\\2866512621.py:1: UserWarning: \n",
      "\n",
      "`distplot` is a deprecated function and will be removed in seaborn v0.14.0.\n",
      "\n",
      "Please adapt your code to use either `displot` (a figure-level function with\n",
      "similar flexibility) or `histplot` (an axes-level function for histograms).\n",
      "\n",
      "For a guide to updating your code to use the new functions, please see\n",
      "https://gist.github.com/mwaskom/de44147ed2974457ad6372750bbe5751\n",
      "\n",
      "  sns.distplot(train_df['Num_Credit_Inquiries'])\n"
     ]
    },
    {
     "data": {
      "text/plain": [
       "<Axes: xlabel='Num_Credit_Inquiries', ylabel='Density'>"
      ]
     },
     "execution_count": 87,
     "metadata": {},
     "output_type": "execute_result"
    },
    {
     "data": {
      "image/png": "[encoded data removed]",
      "text/plain": [
       "<Figure size 640x480 with 1 Axes>"
      ]
     },
     "metadata": {},
     "output_type": "display_data"
    }
   ],
   "source": [
    "sns.distplot(train_df['Num_Credit_Inquiries'])"
   ]
  },
  {
   "cell_type": "code",
   "execution_count": 88,
   "id": "6ea05bd1-755e-4f66-b7cf-686c2652691b",
   "metadata": {
    "tags": []
   },
   "outputs": [
    {
     "data": {
      "image/png": "[encoded data removed]",
      "text/plain": [
       "<Figure size 500x500 with 1 Axes>"
      ]
     },
     "metadata": {},
     "output_type": "display_data"
    }
   ],
   "source": [
    "plot_distplot('Credit_Utilization_Ratio')"
   ]
  },
  {
   "cell_type": "code",
   "execution_count": 89,
   "id": "9d33d72a-8623-438f-89b1-8c0139019ece",
   "metadata": {
    "tags": []
   },
   "outputs": [
    {
     "name": "stderr",
     "output_type": "stream",
     "text": [
      "C:\\Users\\001\\AppData\\Local\\Temp\\ipykernel_18140\\3261247161.py:1: UserWarning: \n",
      "\n",
      "`distplot` is a deprecated function and will be removed in seaborn v0.14.0.\n",
      "\n",
      "Please adapt your code to use either `displot` (a figure-level function with\n",
      "similar flexibility) or `histplot` (an axes-level function for histograms).\n",
      "\n",
      "For a guide to updating your code to use the new functions, please see\n",
      "https://gist.github.com/mwaskom/de44147ed2974457ad6372750bbe5751\n",
      "\n",
      "  sns.distplot(train_df['Total_EMI_per_month']);\n"
     ]
    },
    {
     "data": {
      "image/png": "[encoded data removed]",
      "text/plain": [
       "<Figure size 640x480 with 1 Axes>"
      ]
     },
     "metadata": {},
     "output_type": "display_data"
    }
   ],
   "source": [
    "sns.distplot(train_df['Total_EMI_per_month']);"
   ]
  },
  {
   "cell_type": "code",
   "execution_count": 91,
   "id": "ad070903-2991-4565-b35c-7b8febd6aa6a",
   "metadata": {
    "tags": []
   },
   "outputs": [
    {
     "data": {
      "text/plain": [
       "Type_of_Loan\n",
       "Not Specified                      1408\n",
       "Credit-Builder Loan                1280\n",
       "Personal Loan                      1272\n",
       "Debt Consolidation Loan            1264\n",
       "Student Loan                       1240\n",
       "Payday Loan                        1200\n",
       "Mortgage Loan                      1176\n",
       "Auto Loan                          1152\n",
       "Home Equity Loan                   1136\n",
       "Personal Loan, and Student Loan     320\n",
       "Name: count, dtype: int64"
      ]
     },
     "execution_count": 91,
     "metadata": {},
     "output_type": "execute_result"
    }
   ],
   "source": [
    "train_df['Type_of_Loan'].value_counts().head(10)"
   ]
  },
  {
   "cell_type": "markdown",
   "id": "54ab24b0-6b0b-4a4d-b66d-4667faff68f1",
   "metadata": {},
   "source": [
    "# Data Cleaning"
   ]
  },
  {
   "cell_type": "markdown",
   "id": "9d4800d1-8015-4a83-a3b8-99c2a32bd2c4",
   "metadata": {},
   "source": [
    "The following 3 attributes contribute nothing to the data:\n",
    "1. ID\n",
    "2. Name\n",
    "3. SSN"
   ]
  },
  {
   "cell_type": "code",
   "execution_count": 167,
   "id": "d8cd9a59-4ad2-4100-bb55-33ae80ae2a23",
   "metadata": {
    "tags": []
   },
   "outputs": [],
   "source": [
    "del train_df['ID'] # Identification \n",
    "del train_df['Name'] # Name of client \n",
    "del train_df['SSN'] # SSN (social security number of a person)"
   ]
  },
  {
   "cell_type": "code",
   "execution_count": 93,
   "id": "e39a41b0-47ef-4b35-b1a6-6e3d08b50ddd",
   "metadata": {
    "tags": []
   },
   "outputs": [
    {
     "data": {
      "text/html": [
       "<div>\n",
       "<style scoped>\n",
       "    .dataframe tbody tr th:only-of-type {\n",
       "        vertical-align: middle;\n",
       "    }\n",
       "\n",
       "    .dataframe tbody tr th {\n",
       "        vertical-align: top;\n",
       "    }\n",
       "\n",
       "    .dataframe thead th {\n",
       "        text-align: right;\n",
       "    }\n",
       "</style>\n",
       "<table border=\"1\" class=\"dataframe\">\n",
       "  <thead>\n",
       "    <tr style=\"text-align: right;\">\n",
       "      <th></th>\n",
       "      <th>Customer_ID</th>\n",
       "      <th>Month</th>\n",
       "      <th>Age</th>\n",
       "      <th>Occupation</th>\n",
       "      <th>Annual_Income</th>\n",
       "      <th>Monthly_Inhand_Salary</th>\n",
       "      <th>Num_Bank_Accounts</th>\n",
       "      <th>Num_Credit_Card</th>\n",
       "      <th>Interest_Rate</th>\n",
       "      <th>Num_of_Loan</th>\n",
       "      <th>...</th>\n",
       "      <th>Credit_Mix</th>\n",
       "      <th>Outstanding_Debt</th>\n",
       "      <th>Credit_Utilization_Ratio</th>\n",
       "      <th>Credit_History_Age</th>\n",
       "      <th>Payment_of_Min_Amount</th>\n",
       "      <th>Total_EMI_per_month</th>\n",
       "      <th>Amount_invested_monthly</th>\n",
       "      <th>Payment_Behaviour</th>\n",
       "      <th>Monthly_Balance</th>\n",
       "      <th>Credit_Score</th>\n",
       "    </tr>\n",
       "  </thead>\n",
       "  <tbody>\n",
       "    <tr>\n",
       "      <th>0</th>\n",
       "      <td>CUS_0xd40</td>\n",
       "      <td>January</td>\n",
       "      <td>23</td>\n",
       "      <td>Scientist</td>\n",
       "      <td>19114.12</td>\n",
       "      <td>1824.843333</td>\n",
       "      <td>3</td>\n",
       "      <td>4</td>\n",
       "      <td>3</td>\n",
       "      <td>4</td>\n",
       "      <td>...</td>\n",
       "      <td>_</td>\n",
       "      <td>809.98</td>\n",
       "      <td>26.822620</td>\n",
       "      <td>22 Years and 1 Months</td>\n",
       "      <td>No</td>\n",
       "      <td>49.574949</td>\n",
       "      <td>80.41529543900253</td>\n",
       "      <td>High_spent_Small_value_payments</td>\n",
       "      <td>312.49408867943663</td>\n",
       "      <td>Good</td>\n",
       "    </tr>\n",
       "    <tr>\n",
       "      <th>1</th>\n",
       "      <td>CUS_0xd40</td>\n",
       "      <td>February</td>\n",
       "      <td>23</td>\n",
       "      <td>Scientist</td>\n",
       "      <td>19114.12</td>\n",
       "      <td>NaN</td>\n",
       "      <td>3</td>\n",
       "      <td>4</td>\n",
       "      <td>3</td>\n",
       "      <td>4</td>\n",
       "      <td>...</td>\n",
       "      <td>Good</td>\n",
       "      <td>809.98</td>\n",
       "      <td>31.944960</td>\n",
       "      <td>NaN</td>\n",
       "      <td>No</td>\n",
       "      <td>49.574949</td>\n",
       "      <td>118.28022162236736</td>\n",
       "      <td>Low_spent_Large_value_payments</td>\n",
       "      <td>284.62916249607184</td>\n",
       "      <td>Good</td>\n",
       "    </tr>\n",
       "    <tr>\n",
       "      <th>2</th>\n",
       "      <td>CUS_0xd40</td>\n",
       "      <td>March</td>\n",
       "      <td>-500</td>\n",
       "      <td>Scientist</td>\n",
       "      <td>19114.12</td>\n",
       "      <td>NaN</td>\n",
       "      <td>3</td>\n",
       "      <td>4</td>\n",
       "      <td>3</td>\n",
       "      <td>4</td>\n",
       "      <td>...</td>\n",
       "      <td>Good</td>\n",
       "      <td>809.98</td>\n",
       "      <td>28.609352</td>\n",
       "      <td>22 Years and 3 Months</td>\n",
       "      <td>No</td>\n",
       "      <td>49.574949</td>\n",
       "      <td>81.699521264648</td>\n",
       "      <td>Low_spent_Medium_value_payments</td>\n",
       "      <td>331.2098628537912</td>\n",
       "      <td>Good</td>\n",
       "    </tr>\n",
       "    <tr>\n",
       "      <th>3</th>\n",
       "      <td>CUS_0xd40</td>\n",
       "      <td>April</td>\n",
       "      <td>23</td>\n",
       "      <td>Scientist</td>\n",
       "      <td>19114.12</td>\n",
       "      <td>NaN</td>\n",
       "      <td>3</td>\n",
       "      <td>4</td>\n",
       "      <td>3</td>\n",
       "      <td>4</td>\n",
       "      <td>...</td>\n",
       "      <td>Good</td>\n",
       "      <td>809.98</td>\n",
       "      <td>31.377862</td>\n",
       "      <td>22 Years and 4 Months</td>\n",
       "      <td>No</td>\n",
       "      <td>49.574949</td>\n",
       "      <td>199.4580743910713</td>\n",
       "      <td>Low_spent_Small_value_payments</td>\n",
       "      <td>223.45130972736786</td>\n",
       "      <td>Good</td>\n",
       "    </tr>\n",
       "    <tr>\n",
       "      <th>4</th>\n",
       "      <td>CUS_0xd40</td>\n",
       "      <td>May</td>\n",
       "      <td>23</td>\n",
       "      <td>Scientist</td>\n",
       "      <td>19114.12</td>\n",
       "      <td>1824.843333</td>\n",
       "      <td>3</td>\n",
       "      <td>4</td>\n",
       "      <td>3</td>\n",
       "      <td>4</td>\n",
       "      <td>...</td>\n",
       "      <td>Good</td>\n",
       "      <td>809.98</td>\n",
       "      <td>24.797347</td>\n",
       "      <td>22 Years and 5 Months</td>\n",
       "      <td>No</td>\n",
       "      <td>49.574949</td>\n",
       "      <td>41.420153086217326</td>\n",
       "      <td>High_spent_Medium_value_payments</td>\n",
       "      <td>341.48923103222177</td>\n",
       "      <td>Good</td>\n",
       "    </tr>\n",
       "  </tbody>\n",
       "</table>\n",
       "<p>5 rows × 25 columns</p>\n",
       "</div>"
      ],
      "text/plain": [
       "  Customer_ID     Month   Age Occupation Annual_Income  Monthly_Inhand_Salary  \\\n",
       "0   CUS_0xd40   January    23  Scientist      19114.12            1824.843333   \n",
       "1   CUS_0xd40  February    23  Scientist      19114.12                    NaN   \n",
       "2   CUS_0xd40     March  -500  Scientist      19114.12                    NaN   \n",
       "3   CUS_0xd40     April    23  Scientist      19114.12                    NaN   \n",
       "4   CUS_0xd40       May    23  Scientist      19114.12            1824.843333   \n",
       "\n",
       "   Num_Bank_Accounts  Num_Credit_Card  Interest_Rate Num_of_Loan  ...  \\\n",
       "0                  3                4              3           4  ...   \n",
       "1                  3                4              3           4  ...   \n",
       "2                  3                4              3           4  ...   \n",
       "3                  3                4              3           4  ...   \n",
       "4                  3                4              3           4  ...   \n",
       "\n",
       "  Credit_Mix  Outstanding_Debt Credit_Utilization_Ratio  \\\n",
       "0          _            809.98                26.822620   \n",
       "1       Good            809.98                31.944960   \n",
       "2       Good            809.98                28.609352   \n",
       "3       Good            809.98                31.377862   \n",
       "4       Good            809.98                24.797347   \n",
       "\n",
       "      Credit_History_Age  Payment_of_Min_Amount Total_EMI_per_month  \\\n",
       "0  22 Years and 1 Months                     No           49.574949   \n",
       "1                    NaN                     No           49.574949   \n",
       "2  22 Years and 3 Months                     No           49.574949   \n",
       "3  22 Years and 4 Months                     No           49.574949   \n",
       "4  22 Years and 5 Months                     No           49.574949   \n",
       "\n",
       "  Amount_invested_monthly                 Payment_Behaviour  \\\n",
       "0       80.41529543900253   High_spent_Small_value_payments   \n",
       "1      118.28022162236736    Low_spent_Large_value_payments   \n",
       "2         81.699521264648   Low_spent_Medium_value_payments   \n",
       "3       199.4580743910713    Low_spent_Small_value_payments   \n",
       "4      41.420153086217326  High_spent_Medium_value_payments   \n",
       "\n",
       "      Monthly_Balance Credit_Score  \n",
       "0  312.49408867943663         Good  \n",
       "1  284.62916249607184         Good  \n",
       "2   331.2098628537912         Good  \n",
       "3  223.45130972736786         Good  \n",
       "4  341.48923103222177         Good  \n",
       "\n",
       "[5 rows x 25 columns]"
      ]
     },
     "execution_count": 93,
     "metadata": {},
     "output_type": "execute_result"
    }
   ],
   "source": [
    "train_df.head()"
   ]
  },
  {
   "cell_type": "code",
   "execution_count": 98,
   "id": "b6398e31-e429-48a4-b7af-1cef36d959a1",
   "metadata": {
    "tags": []
   },
   "outputs": [
    {
     "name": "stdout",
     "output_type": "stream",
     "text": [
      "<class 'pandas.core.frame.DataFrame'>\n",
      "RangeIndex: 100000 entries, 0 to 99999\n",
      "Data columns (total 25 columns):\n",
      " #   Column                    Non-Null Count   Dtype  \n",
      "---  ------                    --------------   -----  \n",
      " 0   Customer_ID               100000 non-null  object \n",
      " 1   Month                     100000 non-null  object \n",
      " 2   Age                       100000 non-null  object \n",
      " 3   Occupation                100000 non-null  object \n",
      " 4   Annual_Income             100000 non-null  object \n",
      " 5   Monthly_Inhand_Salary     84998 non-null   float64\n",
      " 6   Num_Bank_Accounts         100000 non-null  int64  \n",
      " 7   Num_Credit_Card           100000 non-null  int64  \n",
      " 8   Interest_Rate             100000 non-null  int64  \n",
      " 9   Num_of_Loan               100000 non-null  object \n",
      " 10  Type_of_Loan              88592 non-null   object \n",
      " 11  Delay_from_due_date       100000 non-null  int64  \n",
      " 12  Num_of_Delayed_Payment    92998 non-null   object \n",
      " 13  Changed_Credit_Limit      100000 non-null  object \n",
      " 14  Num_Credit_Inquiries      98035 non-null   float64\n",
      " 15  Credit_Mix                100000 non-null  object \n",
      " 16  Outstanding_Debt          100000 non-null  object \n",
      " 17  Credit_Utilization_Ratio  100000 non-null  float64\n",
      " 18  Credit_History_Age        90970 non-null   object \n",
      " 19  Payment_of_Min_Amount     100000 non-null  object \n",
      " 20  Total_EMI_per_month       100000 non-null  float64\n",
      " 21  Amount_invested_monthly   95521 non-null   object \n",
      " 22  Payment_Behaviour         100000 non-null  object \n",
      " 23  Monthly_Balance           98800 non-null   object \n",
      " 24  Credit_Score              100000 non-null  object \n",
      "dtypes: float64(4), int64(4), object(17)\n",
      "memory usage: 19.1+ MB\n"
     ]
    }
   ],
   "source": [
    "train_df.info()"
   ]
  },
  {
   "cell_type": "code",
   "execution_count": 106,
   "id": "b75fd2dd-aa49-4620-ad39-87815cd410c8",
   "metadata": {
    "tags": []
   },
   "outputs": [
    {
     "data": {
      "text/plain": [
       "array(['23', '-500', '28_', ..., '4808_', '2263', '1342'], dtype=object)"
      ]
     },
     "execution_count": 106,
     "metadata": {},
     "output_type": "execute_result"
    }
   ],
   "source": [
    "train_df['Age'].unique()"
   ]
  },
  {
   "cell_type": "code",
   "execution_count": 104,
   "id": "c5b317e8-f20b-4f7e-accf-de97aeec7fbf",
   "metadata": {
    "tags": []
   },
   "outputs": [
    {
     "data": {
      "text/plain": [
       "'Folder created successfully'"
      ]
     },
     "execution_count": 104,
     "metadata": {},
     "output_type": "execute_result"
    }
   ],
   "source": [
    "folder_name = \"./value_counts\"\n",
    "os.makedirs(folder_name, exist_ok=True)\n",
    "\"Folder created successfully\" if os.path.exists(folder_name) else \"Folder creation failed\""
   ]
  },
  {
   "cell_type": "code",
   "execution_count": 107,
   "id": "edce92f5-84fc-44f9-bd85-a0caf4a18a51",
   "metadata": {
    "tags": []
   },
   "outputs": [
    {
     "data": {
      "text/plain": [
       "Index(['Customer_ID', 'Month', 'Age', 'Occupation', 'Annual_Income',\n",
       "       'Monthly_Inhand_Salary', 'Num_Bank_Accounts', 'Num_Credit_Card',\n",
       "       'Interest_Rate', 'Num_of_Loan', 'Type_of_Loan', 'Delay_from_due_date',\n",
       "       'Num_of_Delayed_Payment', 'Changed_Credit_Limit',\n",
       "       'Num_Credit_Inquiries', 'Credit_Mix', 'Outstanding_Debt',\n",
       "       'Credit_Utilization_Ratio', 'Credit_History_Age',\n",
       "       'Payment_of_Min_Amount', 'Total_EMI_per_month',\n",
       "       'Amount_invested_monthly', 'Payment_Behaviour', 'Monthly_Balance'],\n",
       "      dtype='object')"
      ]
     },
     "execution_count": 107,
     "metadata": {},
     "output_type": "execute_result"
    }
   ],
   "source": [
    "train_df.iloc[:,:-1].columns"
   ]
  },
  {
   "cell_type": "code",
   "execution_count": 109,
   "id": "81d8294e-8b2f-4791-9ecc-ace287750b8b",
   "metadata": {
    "tags": []
   },
   "outputs": [],
   "source": [
    "for col in train_df.iloc[:,:-1].columns:\n",
    "    train_df[col].value_counts().to_csv(folder_name+'/'+col)"
   ]
  },
  {
   "cell_type": "markdown",
   "id": "797da784-5fa0-4b91-b026-b87f56106d81",
   "metadata": {},
   "source": [
    "The below columns have dtypes 'object', however they are supposed to be numbers, also some of these columns have '_' in their values"
   ]
  },
  {
   "cell_type": "code",
   "execution_count": 122,
   "id": "dd910999-4a2c-43f0-8ca7-9ee8cb02df6a",
   "metadata": {
    "tags": []
   },
   "outputs": [
    {
     "data": {
      "text/plain": [
       "Index(['Customer_ID', 'Month', 'Age', 'Occupation', 'Annual_Income',\n",
       "       'Num_of_Loan', 'Type_of_Loan', 'Num_of_Delayed_Payment',\n",
       "       'Changed_Credit_Limit', 'Credit_Mix', 'Outstanding_Debt',\n",
       "       'Credit_History_Age', 'Payment_of_Min_Amount',\n",
       "       'Amount_invested_monthly', 'Payment_Behaviour', 'Monthly_Balance',\n",
       "       'Credit_Score'],\n",
       "      dtype='object')"
      ]
     },
     "execution_count": 122,
     "metadata": {},
     "output_type": "execute_result"
    }
   ],
   "source": [
    "train_df.select_dtypes(include=['object']).columns"
   ]
  },
  {
   "cell_type": "code",
   "execution_count": 168,
   "id": "c6473d52-1b68-46f3-bc50-fdd14b125796",
   "metadata": {
    "tags": []
   },
   "outputs": [
    {
     "data": {
      "text/plain": [
       "['Customer_ID',\n",
       " 'Age',\n",
       " 'Occupation',\n",
       " 'Annual_Income',\n",
       " 'Num_of_Loan',\n",
       " 'Num_of_Delayed_Payment',\n",
       " 'Changed_Credit_Limit',\n",
       " 'Credit_Mix',\n",
       " 'Outstanding_Debt',\n",
       " 'Amount_invested_monthly',\n",
       " 'Payment_Behaviour',\n",
       " 'Monthly_Balance']"
      ]
     },
     "execution_count": 168,
     "metadata": {},
     "output_type": "execute_result"
    }
   ],
   "source": [
    "cols_with_underscore = []\n",
    "obj_columns = train_df.iloc[:,:-1].select_dtypes(include=['object']).columns\n",
    "for col in obj_columns:\n",
    "    unique = train_df[col].unique()\n",
    "    # print(col)\n",
    "    for val in unique:\n",
    "        # print(val)\n",
    "        if val is not np.nan and '_' in val:\n",
    "            cols_with_underscore.append(col)\n",
    "            break\n",
    "cols_with_underscore   "
   ]
  },
  {
   "cell_type": "code",
   "execution_count": 169,
   "id": "f4f43e0a-7530-4531-98b4-e6d2d07147c8",
   "metadata": {
    "tags": []
   },
   "outputs": [],
   "source": [
    "num_cols_to_fix = ['Age', 'Annual_Income', 'Num_of_Loan', 'Num_of_Delayed_Payment', \n",
    "            'Changed_Credit_Limit', 'Amount_invested_monthly', 'Outstanding_Debt' , 'Monthly_Balance']"
   ]
  },
  {
   "cell_type": "code",
   "execution_count": 170,
   "id": "02b4f177-0ce2-4d69-a40f-8deddf5ead16",
   "metadata": {
    "tags": []
   },
   "outputs": [],
   "source": [
    "def fix_nums(num):\n",
    "    try : \n",
    "        return float(num.replace(\"_\",\"\"))\n",
    "    except :\n",
    "        return np.nan"
   ]
  },
  {
   "cell_type": "code",
   "execution_count": 171,
   "id": "ab341df6-1d26-4b89-be24-a41f00607b17",
   "metadata": {
    "tags": []
   },
   "outputs": [],
   "source": [
    "for col in num_cols_to_fix :\n",
    "    train_df[col] = train_df[col].apply(fix_nums)"
   ]
  },
  {
   "cell_type": "code",
   "execution_count": 172,
   "id": "a1b96cb8-c07e-4c61-aa7e-35daa0796a2b",
   "metadata": {
    "tags": []
   },
   "outputs": [
    {
     "data": {
      "text/plain": [
       "Customer_ID                  object\n",
       "Month                        object\n",
       "Age                         float64\n",
       "Occupation                   object\n",
       "Annual_Income               float64\n",
       "Monthly_Inhand_Salary       float64\n",
       "Num_Bank_Accounts             int64\n",
       "Num_Credit_Card               int64\n",
       "Interest_Rate                 int64\n",
       "Num_of_Loan                 float64\n",
       "Type_of_Loan                 object\n",
       "Delay_from_due_date           int64\n",
       "Num_of_Delayed_Payment      float64\n",
       "Changed_Credit_Limit        float64\n",
       "Num_Credit_Inquiries        float64\n",
       "Credit_Mix                   object\n",
       "Outstanding_Debt            float64\n",
       "Credit_Utilization_Ratio    float64\n",
       "Credit_History_Age           object\n",
       "Payment_of_Min_Amount        object\n",
       "Total_EMI_per_month         float64\n",
       "Amount_invested_monthly     float64\n",
       "Payment_Behaviour            object\n",
       "Monthly_Balance             float64\n",
       "Credit_Score                 object\n",
       "dtype: object"
      ]
     },
     "execution_count": 172,
     "metadata": {},
     "output_type": "execute_result"
    }
   ],
   "source": [
    "train_df.dtypes"
   ]
  },
  {
   "cell_type": "code",
   "execution_count": 173,
   "id": "9d79da12-dde8-4a6c-bd23-99bd47ad1727",
   "metadata": {
    "tags": []
   },
   "outputs": [
    {
     "data": {
      "text/plain": [
       "['Customer_ID', 'Occupation', 'Credit_Mix', 'Payment_Behaviour']"
      ]
     },
     "execution_count": 173,
     "metadata": {},
     "output_type": "execute_result"
    }
   ],
   "source": [
    "new_cols_with_underscore = []\n",
    "for col in cols_with_underscore:\n",
    "    if train_df.dtypes[col]==np.float64:\n",
    "        continue\n",
    "    unique = train_df[col].unique()\n",
    "    # print(col)\n",
    "    for val in unique:\n",
    "        # print(val)\n",
    "        if val is not np.nan and '_' in val:\n",
    "            new_cols_with_underscore.append(col)\n",
    "            break\n",
    "new_cols_with_underscore "
   ]
  },
  {
   "cell_type": "code",
   "execution_count": 174,
   "id": "49620d01-71f5-4292-befc-521254473476",
   "metadata": {
    "tags": []
   },
   "outputs": [
    {
     "data": {
      "text/plain": [
       "Type_of_Loan\n",
       "Not Specified                      1408\n",
       "Credit-Builder Loan                1280\n",
       "Personal Loan                      1272\n",
       "Debt Consolidation Loan            1264\n",
       "Student Loan                       1240\n",
       "Payday Loan                        1200\n",
       "Mortgage Loan                      1176\n",
       "Auto Loan                          1152\n",
       "Home Equity Loan                   1136\n",
       "Personal Loan, and Student Loan     320\n",
       "Name: count, dtype: int64"
      ]
     },
     "execution_count": 174,
     "metadata": {},
     "output_type": "execute_result"
    }
   ],
   "source": [
    "train_df['Type_of_Loan'].value_counts().head(10)"
   ]
  },
  {
   "cell_type": "code",
   "execution_count": 175,
   "id": "c30a7203-bf3e-47c4-b641-25e4fea77fbf",
   "metadata": {
    "tags": []
   },
   "outputs": [],
   "source": [
    "for i in train_df['Type_of_Loan'].value_counts().head(9).index[1:]: \n",
    "    train_df[i] = train_df['Type_of_Loan'].str.contains(i)"
   ]
  },
  {
   "cell_type": "code",
   "execution_count": 176,
   "id": "d2b84270-1311-487e-91ba-d78ac1612a3d",
   "metadata": {
    "tags": []
   },
   "outputs": [],
   "source": [
    "del train_df['Type_of_Loan']"
   ]
  },
  {
   "cell_type": "code",
   "execution_count": 177,
   "id": "2108dd59-221f-4d75-8811-12c96c02e211",
   "metadata": {
    "tags": []
   },
   "outputs": [],
   "source": [
    "train_df['Num_Bank_Accounts'] = train_df['Num_Bank_Accounts'].apply(lambda x :abs (x))"
   ]
  },
  {
   "cell_type": "code",
   "execution_count": 178,
   "id": "9a646043-be2e-4c47-a2ba-ead3282af583",
   "metadata": {
    "tags": []
   },
   "outputs": [],
   "source": [
    "train_df['Num_Credit_Card'].replace(0,1,inplace=True)"
   ]
  },
  {
   "cell_type": "code",
   "execution_count": 220,
   "id": "46d27004-092a-4923-90b8-be70b8a85e96",
   "metadata": {
    "tags": []
   },
   "outputs": [],
   "source": [
    "def get_num(st):\n",
    "    st = st.strip()\n",
    "    num_str = ''\n",
    "    for char in st:\n",
    "        if char==' ':\n",
    "            break\n",
    "        num_str+=char if 0<=int(char)<=9 else ''\n",
    "    return int(num_str)\n",
    "\n",
    "def history_age(age):\n",
    "    try : \n",
    "        years, months = age.split('and')\n",
    "        years = get_num(years)\n",
    "        print(years)\n",
    "        months = get_num(months)\n",
    "        # print(months)\n",
    "        return years*12 + months\n",
    "    except :\n",
    "        return np.nan"
   ]
  },
  {
   "cell_type": "code",
   "execution_count": 221,
   "id": "6297a862-ebd9-4d3a-9a2f-1f647f5f79e1",
   "metadata": {
    "tags": []
   },
   "outputs": [
    {
     "name": "stdout",
     "output_type": "stream",
     "text": [
      "0\n"
     ]
    },
    {
     "data": {
      "text/plain": [
       "13"
      ]
     },
     "execution_count": 221,
     "metadata": {},
     "output_type": "execute_result"
    }
   ],
   "source": [
    "history_age('   0     Years     and    13    Months    ')"
   ]
  },
  {
   "cell_type": "code",
   "execution_count": null,
   "id": "b1e62ec9-3307-4b7b-bb4a-28e7c2a7d8ad",
   "metadata": {
    "tags": []
   },
   "outputs": [],
   "source": [
    "train_df['Credit_History_Age'] = train_df['Credit_History_Age'].apply(history_age)"
   ]
  },
  {
   "cell_type": "code",
   "execution_count": 225,
   "id": "1a7d943a-3145-4e9c-b707-8e6922032b1f",
   "metadata": {
    "tags": []
   },
   "outputs": [
    {
     "data": {
      "text/plain": [
       "array([265.,  nan, 267., 268., 269., 270., 271., 319., 320., 321., 322.,\n",
       "       323., 324., 325., 326., 213., 214., 215., 217., 218., 219., 220.,\n",
       "       207., 208., 209., 210., 211., 212., 368., 369., 370., 371., 372.,\n",
       "       373., 374., 375., 384., 386., 387., 389., 390., 367., 176., 177.,\n",
       "       178., 179., 180., 181., 182., 256., 257., 258., 259., 260., 261.,\n",
       "       262., 263., 318., 230., 231., 232., 233., 234., 235., 236., 305.,\n",
       "       306., 307., 308., 309., 310., 311., 312., 327., 328., 329., 107.,\n",
       "       108., 109., 110., 111., 112., 114., 221., 222., 224., 225., 202.,\n",
       "       203., 204., 205., 206., 350., 351., 352., 354., 356., 357.,  77.,\n",
       "        78.,  79.,  80.,  81.,  82.,  83.,  84., 330., 331., 332., 333.,\n",
       "       223., 237., 238., 121., 122., 123., 124., 125., 126., 127., 128.,\n",
       "       393., 394., 395., 396., 397., 400., 147., 148., 149., 150., 151.,\n",
       "       152., 154., 153., 164., 167., 168., 169., 170., 171., 363., 364.,\n",
       "       365., 366., 105., 106., 226., 227., 228., 229., 104., 157., 158.,\n",
       "       159., 161., 162., 163., 264., 313., 314., 160., 165., 335., 336.,\n",
       "       337., 338., 339., 340., 341., 342.,  94.,  95.,  96.,  97.,  98.,\n",
       "        99., 100., 101., 291., 292., 293., 294., 295., 296., 297.,  14.,\n",
       "        15.,  16.,  17.,  18.,  19.,  20., 131., 132., 133., 134., 135.,\n",
       "       136., 137., 138., 239., 240., 241., 129., 130., 172., 173., 174.,\n",
       "       248., 249., 250., 251., 252., 253., 254., 255.,   4.,   5.,   6.,\n",
       "         8.,   9.,  10., 379., 380., 381., 382., 383., 385., 155., 156.,\n",
       "       334., 139., 140., 141., 142., 298., 299., 300., 301., 302., 303.,\n",
       "       216., 376., 377., 378.,  62.,  63.,  64.,  65.,  66.,  67.,  68.,\n",
       "        69.,  35.,  36.,  37.,  38.,  39.,  40.,  41.,  42., 196., 197.,\n",
       "       198., 199., 200., 201., 275., 276., 278., 279., 280., 281., 282.,\n",
       "       102., 103.,  53.,  54.,  55.,  56.,  57.,  58.,  59.,  60., 392.,\n",
       "       398., 399., 146., 388., 359., 360., 362., 315., 316., 317.,  90.,\n",
       "        91.,  92.,  93., 343., 344., 345., 346., 353., 355., 242., 243.,\n",
       "       244., 245., 246., 247., 347., 348., 166.,  21.,  22.,  23., 401.,\n",
       "       402., 403., 404., 349.,  61.,  70.,  71.,  72.,  73.,  74.,  75.,\n",
       "       273., 274., 277., 266., 184., 185., 186., 187., 188., 189., 190.,\n",
       "       191.,  27.,  28.,  29.,  30.,  31.,  32.,  33.,  34.,  24., 194.,\n",
       "       195., 272., 113., 115., 116., 117., 143., 144., 145., 290., 192.,\n",
       "       193., 175., 304., 183.,  85.,  86.,  87.,  88.,  89., 283., 284.,\n",
       "       285., 361., 358., 118., 119., 120.,  26., 286., 287., 288., 289.,\n",
       "        76.,   1.,   2.,   3.,   7.,  44., 391.,  43.,  45.,  46.,  11.,\n",
       "        12.,  13.,  52.,  47.,  48.,  49.,  50.,  51.,  25.])"
      ]
     },
     "execution_count": 225,
     "metadata": {},
     "output_type": "execute_result"
    }
   ],
   "source": [
    "train_df['Credit_History_Age'].unique()"
   ]
  },
  {
   "cell_type": "code",
   "execution_count": 226,
   "id": "6fcb6cd3-6caa-4f3b-9181-eb5ce7aa9d31",
   "metadata": {
    "tags": []
   },
   "outputs": [],
   "source": [
    "train_df['Payment_of_Min_Amount'].replace(\"NM\",\"No\",inplace=True)"
   ]
  },
  {
   "cell_type": "code",
   "execution_count": 227,
   "id": "6c53145c-6601-4009-93b8-725c7e187f26",
   "metadata": {
    "tags": []
   },
   "outputs": [
    {
     "data": {
      "text/plain": [
       "Payment_of_Min_Amount\n",
       "Yes    52326\n",
       "No     47674\n",
       "Name: count, dtype: int64"
      ]
     },
     "execution_count": 227,
     "metadata": {},
     "output_type": "execute_result"
    }
   ],
   "source": [
    "train_df['Payment_of_Min_Amount'].value_counts()"
   ]
  },
  {
   "cell_type": "code",
   "execution_count": 228,
   "id": "7e2d9205-cd05-4df3-a6b4-2e526ad8c5a3",
   "metadata": {
    "tags": []
   },
   "outputs": [],
   "source": [
    "train_df['Payment_Behaviour']= train_df['Payment_Behaviour'].replace(\"!@9#%8\",np.nan)"
   ]
  },
  {
   "cell_type": "code",
   "execution_count": 235,
   "id": "f2d9d9cc-512e-4135-930b-f50e763ef852",
   "metadata": {
    "tags": []
   },
   "outputs": [
    {
     "data": {
      "text/plain": [
       "Payment_Behaviour\n",
       "Low_spent_Small_value_payments      25513\n",
       "High_spent_Medium_value_payments    17540\n",
       "Low_spent_Medium_value_payments     13861\n",
       "High_spent_Large_value_payments     13721\n",
       "High_spent_Small_value_payments     11340\n",
       "Low_spent_Large_value_payments      10425\n",
       "NaN                                  7600\n",
       "Name: count, dtype: int64"
      ]
     },
     "execution_count": 235,
     "metadata": {},
     "output_type": "execute_result"
    }
   ],
   "source": [
    "train_df['Payment_Behaviour'].value_counts(dropna=False)"
   ]
  },
  {
   "cell_type": "code",
   "execution_count": 243,
   "id": "268e3fbf-c19f-4d9f-af67-83c057242da8",
   "metadata": {
    "tags": []
   },
   "outputs": [
    {
     "data": {
      "text/plain": [
       "Occupation\n",
       "_______          7062\n",
       "Lawyer           6575\n",
       "Architect        6355\n",
       "Engineer         6350\n",
       "Scientist        6299\n",
       "Mechanic         6291\n",
       "Accountant       6271\n",
       "Developer        6235\n",
       "Media_Manager    6232\n",
       "Teacher          6215\n",
       "Entrepreneur     6174\n",
       "Doctor           6087\n",
       "Journalist       6085\n",
       "Manager          5973\n",
       "Musician         5911\n",
       "Writer           5885\n",
       "Name: count, dtype: int64"
      ]
     },
     "execution_count": 243,
     "metadata": {},
     "output_type": "execute_result"
    }
   ],
   "source": [
    "train_df['Occupation'].value_counts(dropna=False)"
   ]
  },
  {
   "cell_type": "code",
   "execution_count": 245,
   "id": "3ea952e1-1391-42b6-a4b3-2c74361f0f60",
   "metadata": {
    "tags": []
   },
   "outputs": [
    {
     "data": {
      "text/plain": [
       "Index(['Lawyer', 'Architect', 'Engineer', 'Scientist', 'Mechanic',\n",
       "       'Accountant', 'Developer', 'Media_Manager', 'Teacher', 'Entrepreneur',\n",
       "       'Doctor', 'Journalist', 'Manager', 'Musician', 'Writer'],\n",
       "      dtype='object', name='Occupation')"
      ]
     },
     "execution_count": 245,
     "metadata": {},
     "output_type": "execute_result"
    }
   ],
   "source": [
    "occs = train_df['Occupation'].value_counts().index[1:]\n",
    "occs"
   ]
  },
  {
   "cell_type": "code",
   "execution_count": 247,
   "id": "2c01672d-9f4d-44bd-b9b4-ac01560fdc87",
   "metadata": {
    "tags": []
   },
   "outputs": [
    {
     "name": "stdout",
     "output_type": "stream",
     "text": [
      "Entrepreneur\n"
     ]
    },
    {
     "data": {
      "text/html": [
       "<div>\n",
       "<style scoped>\n",
       "    .dataframe tbody tr th:only-of-type {\n",
       "        vertical-align: middle;\n",
       "    }\n",
       "\n",
       "    .dataframe tbody tr th {\n",
       "        vertical-align: top;\n",
       "    }\n",
       "\n",
       "    .dataframe thead th {\n",
       "        text-align: right;\n",
       "    }\n",
       "</style>\n",
       "<table border=\"1\" class=\"dataframe\">\n",
       "  <thead>\n",
       "    <tr style=\"text-align: right;\">\n",
       "      <th></th>\n",
       "      <th>Customer_ID</th>\n",
       "      <th>Month</th>\n",
       "      <th>Age</th>\n",
       "      <th>Occupation</th>\n",
       "      <th>Annual_Income</th>\n",
       "      <th>Monthly_Inhand_Salary</th>\n",
       "      <th>Num_Bank_Accounts</th>\n",
       "      <th>Num_Credit_Card</th>\n",
       "      <th>Interest_Rate</th>\n",
       "      <th>Num_of_Loan</th>\n",
       "      <th>...</th>\n",
       "      <th>Monthly_Balance</th>\n",
       "      <th>Credit_Score</th>\n",
       "      <th>Credit-Builder Loan</th>\n",
       "      <th>Personal Loan</th>\n",
       "      <th>Debt Consolidation Loan</th>\n",
       "      <th>Student Loan</th>\n",
       "      <th>Payday Loan</th>\n",
       "      <th>Mortgage Loan</th>\n",
       "      <th>Auto Loan</th>\n",
       "      <th>Home Equity Loan</th>\n",
       "    </tr>\n",
       "  </thead>\n",
       "  <tbody>\n",
       "    <tr>\n",
       "      <th>24</th>\n",
       "      <td>CUS_0xb891</td>\n",
       "      <td>January</td>\n",
       "      <td>54.0</td>\n",
       "      <td>Entrepreneur</td>\n",
       "      <td>30689.89</td>\n",
       "      <td>2612.490833</td>\n",
       "      <td>2</td>\n",
       "      <td>5</td>\n",
       "      <td>4</td>\n",
       "      <td>1.0</td>\n",
       "      <td>...</td>\n",
       "      <td>433.604773</td>\n",
       "      <td>Standard</td>\n",
       "      <td>False</td>\n",
       "      <td>False</td>\n",
       "      <td>False</td>\n",
       "      <td>False</td>\n",
       "      <td>False</td>\n",
       "      <td>False</td>\n",
       "      <td>False</td>\n",
       "      <td>False</td>\n",
       "    </tr>\n",
       "    <tr>\n",
       "      <th>25</th>\n",
       "      <td>CUS_0xb891</td>\n",
       "      <td>February</td>\n",
       "      <td>54.0</td>\n",
       "      <td>Entrepreneur</td>\n",
       "      <td>30689.89</td>\n",
       "      <td>2612.490833</td>\n",
       "      <td>2</td>\n",
       "      <td>5</td>\n",
       "      <td>4</td>\n",
       "      <td>1.0</td>\n",
       "      <td>...</td>\n",
       "      <td>409.951812</td>\n",
       "      <td>Standard</td>\n",
       "      <td>False</td>\n",
       "      <td>False</td>\n",
       "      <td>False</td>\n",
       "      <td>False</td>\n",
       "      <td>False</td>\n",
       "      <td>False</td>\n",
       "      <td>False</td>\n",
       "      <td>False</td>\n",
       "    </tr>\n",
       "    <tr>\n",
       "      <th>26</th>\n",
       "      <td>CUS_0xb891</td>\n",
       "      <td>March</td>\n",
       "      <td>55.0</td>\n",
       "      <td>Entrepreneur</td>\n",
       "      <td>30689.89</td>\n",
       "      <td>2612.490833</td>\n",
       "      <td>2</td>\n",
       "      <td>5</td>\n",
       "      <td>4</td>\n",
       "      <td>1.0</td>\n",
       "      <td>...</td>\n",
       "      <td>411.427123</td>\n",
       "      <td>Standard</td>\n",
       "      <td>False</td>\n",
       "      <td>False</td>\n",
       "      <td>False</td>\n",
       "      <td>False</td>\n",
       "      <td>False</td>\n",
       "      <td>False</td>\n",
       "      <td>False</td>\n",
       "      <td>False</td>\n",
       "    </tr>\n",
       "    <tr>\n",
       "      <th>27</th>\n",
       "      <td>CUS_0xb891</td>\n",
       "      <td>April</td>\n",
       "      <td>55.0</td>\n",
       "      <td>Entrepreneur</td>\n",
       "      <td>30689.89</td>\n",
       "      <td>2612.490833</td>\n",
       "      <td>2</td>\n",
       "      <td>5</td>\n",
       "      <td>4</td>\n",
       "      <td>1.0</td>\n",
       "      <td>...</td>\n",
       "      <td>262.499594</td>\n",
       "      <td>Standard</td>\n",
       "      <td>False</td>\n",
       "      <td>False</td>\n",
       "      <td>False</td>\n",
       "      <td>False</td>\n",
       "      <td>False</td>\n",
       "      <td>False</td>\n",
       "      <td>False</td>\n",
       "      <td>False</td>\n",
       "    </tr>\n",
       "    <tr>\n",
       "      <th>28</th>\n",
       "      <td>CUS_0xb891</td>\n",
       "      <td>May</td>\n",
       "      <td>55.0</td>\n",
       "      <td>Entrepreneur</td>\n",
       "      <td>30689.89</td>\n",
       "      <td>2612.490833</td>\n",
       "      <td>2</td>\n",
       "      <td>5</td>\n",
       "      <td>4</td>\n",
       "      <td>1.0</td>\n",
       "      <td>...</td>\n",
       "      <td>359.374916</td>\n",
       "      <td>Standard</td>\n",
       "      <td>False</td>\n",
       "      <td>False</td>\n",
       "      <td>False</td>\n",
       "      <td>False</td>\n",
       "      <td>False</td>\n",
       "      <td>False</td>\n",
       "      <td>False</td>\n",
       "      <td>False</td>\n",
       "    </tr>\n",
       "    <tr>\n",
       "      <th>29</th>\n",
       "      <td>CUS_0xb891</td>\n",
       "      <td>June</td>\n",
       "      <td>55.0</td>\n",
       "      <td>Entrepreneur</td>\n",
       "      <td>30689.89</td>\n",
       "      <td>2612.490833</td>\n",
       "      <td>2</td>\n",
       "      <td>5</td>\n",
       "      <td>4</td>\n",
       "      <td>1.0</td>\n",
       "      <td>...</td>\n",
       "      <td>419.880784</td>\n",
       "      <td>Standard</td>\n",
       "      <td>False</td>\n",
       "      <td>False</td>\n",
       "      <td>False</td>\n",
       "      <td>False</td>\n",
       "      <td>False</td>\n",
       "      <td>False</td>\n",
       "      <td>False</td>\n",
       "      <td>False</td>\n",
       "    </tr>\n",
       "    <tr>\n",
       "      <th>30</th>\n",
       "      <td>CUS_0xb891</td>\n",
       "      <td>July</td>\n",
       "      <td>55.0</td>\n",
       "      <td>Entrepreneur</td>\n",
       "      <td>30689.89</td>\n",
       "      <td>2612.490833</td>\n",
       "      <td>2</td>\n",
       "      <td>5</td>\n",
       "      <td>4</td>\n",
       "      <td>1.0</td>\n",
       "      <td>...</td>\n",
       "      <td>443.549957</td>\n",
       "      <td>Standard</td>\n",
       "      <td>False</td>\n",
       "      <td>False</td>\n",
       "      <td>False</td>\n",
       "      <td>False</td>\n",
       "      <td>False</td>\n",
       "      <td>False</td>\n",
       "      <td>False</td>\n",
       "      <td>False</td>\n",
       "    </tr>\n",
       "    <tr>\n",
       "      <th>31</th>\n",
       "      <td>CUS_0xb891</td>\n",
       "      <td>August</td>\n",
       "      <td>55.0</td>\n",
       "      <td>Entrepreneur</td>\n",
       "      <td>30689.89</td>\n",
       "      <td>2612.490833</td>\n",
       "      <td>2</td>\n",
       "      <td>5</td>\n",
       "      <td>4</td>\n",
       "      <td>-100.0</td>\n",
       "      <td>...</td>\n",
       "      <td>379.216381</td>\n",
       "      <td>Standard</td>\n",
       "      <td>False</td>\n",
       "      <td>False</td>\n",
       "      <td>False</td>\n",
       "      <td>False</td>\n",
       "      <td>False</td>\n",
       "      <td>False</td>\n",
       "      <td>False</td>\n",
       "      <td>False</td>\n",
       "    </tr>\n",
       "  </tbody>\n",
       "</table>\n",
       "<p>8 rows × 32 columns</p>\n",
       "</div>"
      ],
      "text/plain": [
       "   Customer_ID     Month   Age    Occupation  Annual_Income  \\\n",
       "24  CUS_0xb891   January  54.0  Entrepreneur       30689.89   \n",
       "25  CUS_0xb891  February  54.0  Entrepreneur       30689.89   \n",
       "26  CUS_0xb891     March  55.0  Entrepreneur       30689.89   \n",
       "27  CUS_0xb891     April  55.0  Entrepreneur       30689.89   \n",
       "28  CUS_0xb891       May  55.0  Entrepreneur       30689.89   \n",
       "29  CUS_0xb891      June  55.0  Entrepreneur       30689.89   \n",
       "30  CUS_0xb891      July  55.0  Entrepreneur       30689.89   \n",
       "31  CUS_0xb891    August  55.0  Entrepreneur       30689.89   \n",
       "\n",
       "    Monthly_Inhand_Salary  Num_Bank_Accounts  Num_Credit_Card  Interest_Rate  \\\n",
       "24            2612.490833                  2                5              4   \n",
       "25            2612.490833                  2                5              4   \n",
       "26            2612.490833                  2                5              4   \n",
       "27            2612.490833                  2                5              4   \n",
       "28            2612.490833                  2                5              4   \n",
       "29            2612.490833                  2                5              4   \n",
       "30            2612.490833                  2                5              4   \n",
       "31            2612.490833                  2                5              4   \n",
       "\n",
       "    Num_of_Loan  ...  Monthly_Balance  Credit_Score  Credit-Builder Loan  \\\n",
       "24          1.0  ...       433.604773      Standard                False   \n",
       "25          1.0  ...       409.951812      Standard                False   \n",
       "26          1.0  ...       411.427123      Standard                False   \n",
       "27          1.0  ...       262.499594      Standard                False   \n",
       "28          1.0  ...       359.374916      Standard                False   \n",
       "29          1.0  ...       419.880784      Standard                False   \n",
       "30          1.0  ...       443.549957      Standard                False   \n",
       "31       -100.0  ...       379.216381      Standard                False   \n",
       "\n",
       "    Personal Loan Debt Consolidation Loan  Student Loan  Payday Loan  \\\n",
       "24          False                   False         False        False   \n",
       "25          False                   False         False        False   \n",
       "26          False                   False         False        False   \n",
       "27          False                   False         False        False   \n",
       "28          False                   False         False        False   \n",
       "29          False                   False         False        False   \n",
       "30          False                   False         False        False   \n",
       "31          False                   False         False        False   \n",
       "\n",
       "    Mortgage Loan Auto Loan  Home Equity Loan  \n",
       "24          False     False             False  \n",
       "25          False     False             False  \n",
       "26          False     False             False  \n",
       "27          False     False             False  \n",
       "28          False     False             False  \n",
       "29          False     False             False  \n",
       "30          False     False             False  \n",
       "31          False     False             False  \n",
       "\n",
       "[8 rows x 32 columns]"
      ]
     },
     "execution_count": 247,
     "metadata": {},
     "output_type": "execute_result"
    }
   ],
   "source": [
    "id_ = \"CUS_0xb891\"\n",
    "oc = train_df[train_df['Customer_ID'] == id_]['Occupation'].mode()[0]\n",
    "print(oc)\n",
    "train_df[train_df['Customer_ID'] == id_].replace(\"_______\",oc)"
   ]
  },
  {
   "cell_type": "code",
   "execution_count": 251,
   "id": "800b822f-2f2c-492c-a068-573a5980133b",
   "metadata": {
    "tags": []
   },
   "outputs": [
    {
     "data": {
      "text/plain": [
       "Customer_ID\n",
       "CUS_0x9e67    5\n",
       "Name: count, dtype: int64"
      ]
     },
     "execution_count": 251,
     "metadata": {},
     "output_type": "execute_result"
    }
   ],
   "source": [
    "train_df[train_df['Occupation'] == \"_______\"]['Customer_ID'].value_counts()"
   ]
  },
  {
   "cell_type": "code",
   "execution_count": 250,
   "id": "96ffe22e-4181-4bda-8b7b-192c488e349e",
   "metadata": {
    "tags": []
   },
   "outputs": [],
   "source": [
    "for ID in train_df[train_df['Occupation'] == \"_______\"]['Customer_ID']: \n",
    "    oc = train_df[train_df['Customer_ID'] == ID]['Occupation'].mode()[0]\n",
    "    train_df[train_df['Customer_ID'] == ID] = train_df[train_df['Customer_ID'] == ID].replace(\"_______\",oc)"
   ]
  },
  {
   "cell_type": "code",
   "execution_count": 253,
   "id": "c12574b9-725b-4fb9-9484-fd6b2cda58fb",
   "metadata": {
    "tags": []
   },
   "outputs": [
    {
     "data": {
      "text/plain": [
       "Occupation\n",
       "Lawyer           7096\n",
       "Engineer         6864\n",
       "Architect        6824\n",
       "Mechanic         6776\n",
       "Scientist        6744\n",
       "Accountant       6744\n",
       "Developer        6720\n",
       "Media_Manager    6715\n",
       "Teacher          6672\n",
       "Entrepreneur     6648\n",
       "Doctor           6568\n",
       "Journalist       6536\n",
       "Manager          6432\n",
       "Musician         6352\n",
       "Writer           6304\n",
       "_______             5\n",
       "Name: count, dtype: int64"
      ]
     },
     "execution_count": 253,
     "metadata": {},
     "output_type": "execute_result"
    }
   ],
   "source": [
    "train_df['Occupation'].value_counts()"
   ]
  },
  {
   "cell_type": "code",
   "execution_count": 254,
   "id": "1d5cd86c-6b26-4358-acb6-3405d89d9312",
   "metadata": {
    "tags": []
   },
   "outputs": [],
   "source": [
    "train_df['Occupation'] = train_df['Occupation'].replace(\"_______\",train_df['Occupation'].mode()[0])"
   ]
  },
  {
   "cell_type": "code",
   "execution_count": 255,
   "id": "023f0955-e408-4337-818b-24ee49d5a69e",
   "metadata": {
    "tags": []
   },
   "outputs": [
    {
     "data": {
      "text/plain": [
       "Occupation\n",
       "Lawyer           7101\n",
       "Engineer         6864\n",
       "Architect        6824\n",
       "Mechanic         6776\n",
       "Scientist        6744\n",
       "Accountant       6744\n",
       "Developer        6720\n",
       "Media_Manager    6715\n",
       "Teacher          6672\n",
       "Entrepreneur     6648\n",
       "Doctor           6568\n",
       "Journalist       6536\n",
       "Manager          6432\n",
       "Musician         6352\n",
       "Writer           6304\n",
       "Name: count, dtype: int64"
      ]
     },
     "execution_count": 255,
     "metadata": {},
     "output_type": "execute_result"
    }
   ],
   "source": [
    "train_df['Occupation'].value_counts()"
   ]
  },
  {
   "cell_type": "code",
   "execution_count": 257,
   "id": "02bf3067-3cae-45ac-beac-8aa429fd4816",
   "metadata": {
    "tags": []
   },
   "outputs": [
    {
     "data": {
      "text/plain": [
       "Credit_Mix\n",
       "Standard    36479\n",
       "Good        24337\n",
       "_           20195\n",
       "Bad         18989\n",
       "Name: count, dtype: int64"
      ]
     },
     "execution_count": 257,
     "metadata": {},
     "output_type": "execute_result"
    }
   ],
   "source": [
    "train_df['Credit_Mix'].value_counts()"
   ]
  },
  {
   "cell_type": "code",
   "execution_count": 258,
   "id": "5fada11b-b0f0-4ccc-a968-d65e75f61f8b",
   "metadata": {
    "tags": []
   },
   "outputs": [],
   "source": [
    "m = {\n",
    "    \"Bad\":0,\n",
    "    \"Standard\":1,\n",
    "    \"Good\":2,\n",
    "    \"_\":np.nan\n",
    "}"
   ]
  },
  {
   "cell_type": "code",
   "execution_count": 260,
   "id": "2180f33b-4437-44bb-8f71-057d16325e93",
   "metadata": {
    "tags": []
   },
   "outputs": [],
   "source": [
    "train_df['Credit_Mix'] = train_df['Credit_Mix'].map(m)"
   ]
  },
  {
   "cell_type": "code",
   "execution_count": 262,
   "id": "37ae2d53-ac05-413e-b76b-6e447e5c655b",
   "metadata": {
    "tags": []
   },
   "outputs": [
    {
     "data": {
      "text/plain": [
       "Credit_Mix\n",
       "1.0    36479\n",
       "2.0    24337\n",
       "NaN    20195\n",
       "0.0    18989\n",
       "Name: count, dtype: int64"
      ]
     },
     "execution_count": 262,
     "metadata": {},
     "output_type": "execute_result"
    }
   ],
   "source": [
    "train_df['Credit_Mix'].value_counts(dropna=False)"
   ]
  },
  {
   "cell_type": "markdown",
   "id": "664e2860-c2ea-4e81-87d3-317d44c957ae",
   "metadata": {},
   "source": [
    "## Handling Missing Data"
   ]
  },
  {
   "cell_type": "code",
   "execution_count": 264,
   "id": "26fb0817-e738-42db-b3ee-593328e0d479",
   "metadata": {
    "tags": []
   },
   "outputs": [
    {
     "data": {
      "text/plain": [
       "Index(['Credit-Builder Loan', 'Personal Loan', 'Debt Consolidation Loan',\n",
       "       'Student Loan', 'Payday Loan', 'Mortgage Loan', 'Auto Loan',\n",
       "       'Home Equity Loan'],\n",
       "      dtype='object')"
      ]
     },
     "execution_count": 264,
     "metadata": {},
     "output_type": "execute_result"
    }
   ],
   "source": [
    "train_df.columns[-8:]"
   ]
  },
  {
   "cell_type": "code",
   "execution_count": 263,
   "id": "eb5f8145-32fc-4a06-9d05-da13c310cf07",
   "metadata": {
    "tags": []
   },
   "outputs": [],
   "source": [
    "for col in list(train_df.columns[-8:]):\n",
    "    train_df[col] = train_df[col].astype(float)"
   ]
  },
  {
   "cell_type": "code",
   "execution_count": 266,
   "id": "f0b468a2-c739-4263-baa3-149508db5031",
   "metadata": {
    "tags": []
   },
   "outputs": [
    {
     "data": {
      "text/html": [
       "<div>\n",
       "<style scoped>\n",
       "    .dataframe tbody tr th:only-of-type {\n",
       "        vertical-align: middle;\n",
       "    }\n",
       "\n",
       "    .dataframe tbody tr th {\n",
       "        vertical-align: top;\n",
       "    }\n",
       "\n",
       "    .dataframe thead th {\n",
       "        text-align: right;\n",
       "    }\n",
       "</style>\n",
       "<table border=\"1\" class=\"dataframe\">\n",
       "  <thead>\n",
       "    <tr style=\"text-align: right;\">\n",
       "      <th></th>\n",
       "      <th>Credit-Builder Loan</th>\n",
       "      <th>Personal Loan</th>\n",
       "      <th>Debt Consolidation Loan</th>\n",
       "      <th>Student Loan</th>\n",
       "      <th>Payday Loan</th>\n",
       "      <th>Mortgage Loan</th>\n",
       "      <th>Auto Loan</th>\n",
       "      <th>Home Equity Loan</th>\n",
       "    </tr>\n",
       "  </thead>\n",
       "  <tbody>\n",
       "    <tr>\n",
       "      <th>0</th>\n",
       "      <td>1.0</td>\n",
       "      <td>1.0</td>\n",
       "      <td>0.0</td>\n",
       "      <td>0.0</td>\n",
       "      <td>0.0</td>\n",
       "      <td>0.0</td>\n",
       "      <td>1.0</td>\n",
       "      <td>1.0</td>\n",
       "    </tr>\n",
       "    <tr>\n",
       "      <th>1</th>\n",
       "      <td>1.0</td>\n",
       "      <td>1.0</td>\n",
       "      <td>0.0</td>\n",
       "      <td>0.0</td>\n",
       "      <td>0.0</td>\n",
       "      <td>0.0</td>\n",
       "      <td>1.0</td>\n",
       "      <td>1.0</td>\n",
       "    </tr>\n",
       "    <tr>\n",
       "      <th>2</th>\n",
       "      <td>1.0</td>\n",
       "      <td>1.0</td>\n",
       "      <td>0.0</td>\n",
       "      <td>0.0</td>\n",
       "      <td>0.0</td>\n",
       "      <td>0.0</td>\n",
       "      <td>1.0</td>\n",
       "      <td>1.0</td>\n",
       "    </tr>\n",
       "    <tr>\n",
       "      <th>3</th>\n",
       "      <td>1.0</td>\n",
       "      <td>1.0</td>\n",
       "      <td>0.0</td>\n",
       "      <td>0.0</td>\n",
       "      <td>0.0</td>\n",
       "      <td>0.0</td>\n",
       "      <td>1.0</td>\n",
       "      <td>1.0</td>\n",
       "    </tr>\n",
       "    <tr>\n",
       "      <th>4</th>\n",
       "      <td>1.0</td>\n",
       "      <td>1.0</td>\n",
       "      <td>0.0</td>\n",
       "      <td>0.0</td>\n",
       "      <td>0.0</td>\n",
       "      <td>0.0</td>\n",
       "      <td>1.0</td>\n",
       "      <td>1.0</td>\n",
       "    </tr>\n",
       "    <tr>\n",
       "      <th>...</th>\n",
       "      <td>...</td>\n",
       "      <td>...</td>\n",
       "      <td>...</td>\n",
       "      <td>...</td>\n",
       "      <td>...</td>\n",
       "      <td>...</td>\n",
       "      <td>...</td>\n",
       "      <td>...</td>\n",
       "    </tr>\n",
       "    <tr>\n",
       "      <th>99995</th>\n",
       "      <td>0.0</td>\n",
       "      <td>0.0</td>\n",
       "      <td>0.0</td>\n",
       "      <td>1.0</td>\n",
       "      <td>0.0</td>\n",
       "      <td>0.0</td>\n",
       "      <td>1.0</td>\n",
       "      <td>0.0</td>\n",
       "    </tr>\n",
       "    <tr>\n",
       "      <th>99996</th>\n",
       "      <td>0.0</td>\n",
       "      <td>0.0</td>\n",
       "      <td>0.0</td>\n",
       "      <td>1.0</td>\n",
       "      <td>0.0</td>\n",
       "      <td>0.0</td>\n",
       "      <td>1.0</td>\n",
       "      <td>0.0</td>\n",
       "    </tr>\n",
       "    <tr>\n",
       "      <th>99997</th>\n",
       "      <td>0.0</td>\n",
       "      <td>0.0</td>\n",
       "      <td>0.0</td>\n",
       "      <td>1.0</td>\n",
       "      <td>0.0</td>\n",
       "      <td>0.0</td>\n",
       "      <td>1.0</td>\n",
       "      <td>0.0</td>\n",
       "    </tr>\n",
       "    <tr>\n",
       "      <th>99998</th>\n",
       "      <td>0.0</td>\n",
       "      <td>0.0</td>\n",
       "      <td>0.0</td>\n",
       "      <td>1.0</td>\n",
       "      <td>0.0</td>\n",
       "      <td>0.0</td>\n",
       "      <td>1.0</td>\n",
       "      <td>0.0</td>\n",
       "    </tr>\n",
       "    <tr>\n",
       "      <th>99999</th>\n",
       "      <td>0.0</td>\n",
       "      <td>0.0</td>\n",
       "      <td>0.0</td>\n",
       "      <td>1.0</td>\n",
       "      <td>0.0</td>\n",
       "      <td>0.0</td>\n",
       "      <td>1.0</td>\n",
       "      <td>0.0</td>\n",
       "    </tr>\n",
       "  </tbody>\n",
       "</table>\n",
       "<p>100000 rows × 8 columns</p>\n",
       "</div>"
      ],
      "text/plain": [
       "       Credit-Builder Loan  Personal Loan  Debt Consolidation Loan  \\\n",
       "0                      1.0            1.0                      0.0   \n",
       "1                      1.0            1.0                      0.0   \n",
       "2                      1.0            1.0                      0.0   \n",
       "3                      1.0            1.0                      0.0   \n",
       "4                      1.0            1.0                      0.0   \n",
       "...                    ...            ...                      ...   \n",
       "99995                  0.0            0.0                      0.0   \n",
       "99996                  0.0            0.0                      0.0   \n",
       "99997                  0.0            0.0                      0.0   \n",
       "99998                  0.0            0.0                      0.0   \n",
       "99999                  0.0            0.0                      0.0   \n",
       "\n",
       "       Student Loan  Payday Loan  Mortgage Loan  Auto Loan  Home Equity Loan  \n",
       "0               0.0          0.0            0.0        1.0               1.0  \n",
       "1               0.0          0.0            0.0        1.0               1.0  \n",
       "2               0.0          0.0            0.0        1.0               1.0  \n",
       "3               0.0          0.0            0.0        1.0               1.0  \n",
       "4               0.0          0.0            0.0        1.0               1.0  \n",
       "...             ...          ...            ...        ...               ...  \n",
       "99995           1.0          0.0            0.0        1.0               0.0  \n",
       "99996           1.0          0.0            0.0        1.0               0.0  \n",
       "99997           1.0          0.0            0.0        1.0               0.0  \n",
       "99998           1.0          0.0            0.0        1.0               0.0  \n",
       "99999           1.0          0.0            0.0        1.0               0.0  \n",
       "\n",
       "[100000 rows x 8 columns]"
      ]
     },
     "execution_count": 266,
     "metadata": {},
     "output_type": "execute_result"
    }
   ],
   "source": [
    "train_df[train_df.columns[-8:]]"
   ]
  },
  {
   "cell_type": "code",
   "execution_count": 268,
   "id": "87e91f35-d0f6-45e6-aa06-e6f5abe0dc00",
   "metadata": {
    "tags": []
   },
   "outputs": [],
   "source": [
    "IDs = 1 \n",
    "for ID in train_df['Customer_ID'].unique() :\n",
    "    train_df['Customer_ID'] = train_df['Customer_ID'].replace(ID,IDs)\n",
    "    IDs += 1 "
   ]
  },
  {
   "cell_type": "code",
   "execution_count": 269,
   "id": "c5d202ee-2499-4293-ab12-d68d0e526a50",
   "metadata": {
    "tags": []
   },
   "outputs": [],
   "source": [
    "train_df.to_csv('./train_half_preprocessed.csv')"
   ]
  },
  {
   "cell_type": "code",
   "execution_count": 2,
   "id": "fa2bcd8d-08ea-46c9-88e9-2627365fbbad",
   "metadata": {
    "tags": []
   },
   "outputs": [],
   "source": [
    "train_df = pd.read_csv('./train_half_preprocessed.csv')"
   ]
  },
  {
   "cell_type": "code",
   "execution_count": 3,
   "id": "d3b6d733-b3bc-4423-8c84-72c53a53d444",
   "metadata": {},
   "outputs": [],
   "source": [
    "drop_col = train_df.columns[0]"
   ]
  },
  {
   "cell_type": "code",
   "execution_count": 4,
   "id": "413bfb44-abf1-400b-8a3e-0fb557fec40c",
   "metadata": {},
   "outputs": [],
   "source": [
    "del train_df[drop_col]"
   ]
  },
  {
   "cell_type": "code",
   "execution_count": 5,
   "id": "2c744def-d42c-47e6-aa16-1471eaec8dad",
   "metadata": {},
   "outputs": [],
   "source": [
    "imputer = KNNImputer(n_neighbors=1)"
   ]
  },
  {
   "cell_type": "code",
   "execution_count": 6,
   "id": "17c74c70-e021-49ab-b424-ae11880bb360",
   "metadata": {},
   "outputs": [
    {
     "data": {
      "text/plain": [
       "Index(['Age', 'Annual_Income', 'Monthly_Inhand_Salary', 'Num_Bank_Accounts',\n",
       "       'Num_Credit_Card', 'Interest_Rate', 'Num_of_Loan',\n",
       "       'Delay_from_due_date', 'Num_of_Delayed_Payment', 'Changed_Credit_Limit',\n",
       "       'Num_Credit_Inquiries', 'Credit_Mix', 'Outstanding_Debt',\n",
       "       'Credit_Utilization_Ratio', 'Credit_History_Age', 'Total_EMI_per_month',\n",
       "       'Amount_invested_monthly', 'Monthly_Balance', 'Credit-Builder Loan',\n",
       "       'Personal Loan', 'Debt Consolidation Loan', 'Student Loan',\n",
       "       'Payday Loan', 'Mortgage Loan', 'Auto Loan', 'Home Equity Loan'],\n",
       "      dtype='object')"
      ]
     },
     "execution_count": 6,
     "metadata": {},
     "output_type": "execute_result"
    }
   ],
   "source": [
    "Numericals = train_df.select_dtypes(exclude='object').columns[1:]\n",
    "Numericals"
   ]
  },
  {
   "cell_type": "code",
   "execution_count": 7,
   "id": "699c99ee-efbb-412c-8e1c-b2178b0dae14",
   "metadata": {},
   "outputs": [
    {
     "name": "stdout",
     "output_type": "stream",
     "text": [
      "<class 'pandas.core.frame.DataFrame'>\n",
      "RangeIndex: 100000 entries, 0 to 99999\n",
      "Data columns (total 32 columns):\n",
      " #   Column                    Non-Null Count   Dtype  \n",
      "---  ------                    --------------   -----  \n",
      " 0   Customer_ID               100000 non-null  int64  \n",
      " 1   Month                     100000 non-null  object \n",
      " 2   Age                       100000 non-null  float64\n",
      " 3   Occupation                100000 non-null  object \n",
      " 4   Annual_Income             100000 non-null  float64\n",
      " 5   Monthly_Inhand_Salary     84998 non-null   float64\n",
      " 6   Num_Bank_Accounts         100000 non-null  int64  \n",
      " 7   Num_Credit_Card           100000 non-null  int64  \n",
      " 8   Interest_Rate             100000 non-null  int64  \n",
      " 9   Num_of_Loan               100000 non-null  float64\n",
      " 10  Delay_from_due_date       100000 non-null  int64  \n",
      " 11  Num_of_Delayed_Payment    92998 non-null   float64\n",
      " 12  Changed_Credit_Limit      97909 non-null   float64\n",
      " 13  Num_Credit_Inquiries      98035 non-null   float64\n",
      " 14  Credit_Mix                79805 non-null   float64\n",
      " 15  Outstanding_Debt          100000 non-null  float64\n",
      " 16  Credit_Utilization_Ratio  100000 non-null  float64\n",
      " 17  Credit_History_Age        90970 non-null   float64\n",
      " 18  Payment_of_Min_Amount     100000 non-null  object \n",
      " 19  Total_EMI_per_month       100000 non-null  float64\n",
      " 20  Amount_invested_monthly   95521 non-null   float64\n",
      " 21  Payment_Behaviour         92400 non-null   object \n",
      " 22  Monthly_Balance           98800 non-null   float64\n",
      " 23  Credit_Score              100000 non-null  object \n",
      " 24  Credit-Builder Loan       88592 non-null   float64\n",
      " 25  Personal Loan             88592 non-null   float64\n",
      " 26  Debt Consolidation Loan   88592 non-null   float64\n",
      " 27  Student Loan              88592 non-null   float64\n",
      " 28  Payday Loan               88592 non-null   float64\n",
      " 29  Mortgage Loan             88592 non-null   float64\n",
      " 30  Auto Loan                 88592 non-null   float64\n",
      " 31  Home Equity Loan          88592 non-null   float64\n",
      "dtypes: float64(22), int64(5), object(5)\n",
      "memory usage: 24.4+ MB\n"
     ]
    }
   ],
   "source": [
    "train_df.info()"
   ]
  },
  {
   "cell_type": "code",
   "execution_count": 8,
   "id": "baba925a-f0c0-400b-86d4-000cff51ec57",
   "metadata": {},
   "outputs": [],
   "source": [
    "for col in Numericals[1:]:\n",
    "    imputer.fit(train_df[['Customer_ID',col]])\n",
    "    train_df[['Customer_ID',col]] = imputer.transform(train_df[['Customer_ID',col]])"
   ]
  },
  {
   "cell_type": "code",
   "execution_count": 9,
   "id": "0defe834-407b-41bf-85a6-5483eeccada2",
   "metadata": {},
   "outputs": [
    {
     "name": "stdout",
     "output_type": "stream",
     "text": [
      "<class 'pandas.core.frame.DataFrame'>\n",
      "RangeIndex: 100000 entries, 0 to 99999\n",
      "Data columns (total 32 columns):\n",
      " #   Column                    Non-Null Count   Dtype  \n",
      "---  ------                    --------------   -----  \n",
      " 0   Customer_ID               100000 non-null  float64\n",
      " 1   Month                     100000 non-null  object \n",
      " 2   Age                       100000 non-null  float64\n",
      " 3   Occupation                100000 non-null  object \n",
      " 4   Annual_Income             100000 non-null  float64\n",
      " 5   Monthly_Inhand_Salary     100000 non-null  float64\n",
      " 6   Num_Bank_Accounts         100000 non-null  float64\n",
      " 7   Num_Credit_Card           100000 non-null  float64\n",
      " 8   Interest_Rate             100000 non-null  float64\n",
      " 9   Num_of_Loan               100000 non-null  float64\n",
      " 10  Delay_from_due_date       100000 non-null  float64\n",
      " 11  Num_of_Delayed_Payment    100000 non-null  float64\n",
      " 12  Changed_Credit_Limit      100000 non-null  float64\n",
      " 13  Num_Credit_Inquiries      100000 non-null  float64\n",
      " 14  Credit_Mix                100000 non-null  float64\n",
      " 15  Outstanding_Debt          100000 non-null  float64\n",
      " 16  Credit_Utilization_Ratio  100000 non-null  float64\n",
      " 17  Credit_History_Age        100000 non-null  float64\n",
      " 18  Payment_of_Min_Amount     100000 non-null  object \n",
      " 19  Total_EMI_per_month       100000 non-null  float64\n",
      " 20  Amount_invested_monthly   100000 non-null  float64\n",
      " 21  Payment_Behaviour         92400 non-null   object \n",
      " 22  Monthly_Balance           100000 non-null  float64\n",
      " 23  Credit_Score              100000 non-null  object \n",
      " 24  Credit-Builder Loan       100000 non-null  float64\n",
      " 25  Personal Loan             100000 non-null  float64\n",
      " 26  Debt Consolidation Loan   100000 non-null  float64\n",
      " 27  Student Loan              100000 non-null  float64\n",
      " 28  Payday Loan               100000 non-null  float64\n",
      " 29  Mortgage Loan             100000 non-null  float64\n",
      " 30  Auto Loan                 100000 non-null  float64\n",
      " 31  Home Equity Loan          100000 non-null  float64\n",
      "dtypes: float64(27), object(5)\n",
      "memory usage: 24.4+ MB\n"
     ]
    }
   ],
   "source": [
    "train_df.info()"
   ]
  },
  {
   "cell_type": "code",
   "execution_count": 10,
   "id": "ba061ddd-a647-4d29-9924-85ed9fb57fbc",
   "metadata": {},
   "outputs": [],
   "source": [
    "simple_imputer = SimpleImputer(strategy=\"most_frequent\")\n",
    "simple_imputer.fit(train_df[['Payment_Behaviour']])\n",
    "train_df[['Payment_Behaviour']] = simple_imputer.transform(train_df[['Payment_Behaviour']])"
   ]
  },
  {
   "cell_type": "code",
   "execution_count": 11,
   "id": "9f60a2d9-f748-4dec-87ea-ee191c2ca3ff",
   "metadata": {},
   "outputs": [
    {
     "name": "stdout",
     "output_type": "stream",
     "text": [
      "<class 'pandas.core.frame.DataFrame'>\n",
      "RangeIndex: 100000 entries, 0 to 99999\n",
      "Data columns (total 32 columns):\n",
      " #   Column                    Non-Null Count   Dtype  \n",
      "---  ------                    --------------   -----  \n",
      " 0   Customer_ID               100000 non-null  float64\n",
      " 1   Month                     100000 non-null  object \n",
      " 2   Age                       100000 non-null  float64\n",
      " 3   Occupation                100000 non-null  object \n",
      " 4   Annual_Income             100000 non-null  float64\n",
      " 5   Monthly_Inhand_Salary     100000 non-null  float64\n",
      " 6   Num_Bank_Accounts         100000 non-null  float64\n",
      " 7   Num_Credit_Card           100000 non-null  float64\n",
      " 8   Interest_Rate             100000 non-null  float64\n",
      " 9   Num_of_Loan               100000 non-null  float64\n",
      " 10  Delay_from_due_date       100000 non-null  float64\n",
      " 11  Num_of_Delayed_Payment    100000 non-null  float64\n",
      " 12  Changed_Credit_Limit      100000 non-null  float64\n",
      " 13  Num_Credit_Inquiries      100000 non-null  float64\n",
      " 14  Credit_Mix                100000 non-null  float64\n",
      " 15  Outstanding_Debt          100000 non-null  float64\n",
      " 16  Credit_Utilization_Ratio  100000 non-null  float64\n",
      " 17  Credit_History_Age        100000 non-null  float64\n",
      " 18  Payment_of_Min_Amount     100000 non-null  object \n",
      " 19  Total_EMI_per_month       100000 non-null  float64\n",
      " 20  Amount_invested_monthly   100000 non-null  float64\n",
      " 21  Payment_Behaviour         100000 non-null  object \n",
      " 22  Monthly_Balance           100000 non-null  float64\n",
      " 23  Credit_Score              100000 non-null  object \n",
      " 24  Credit-Builder Loan       100000 non-null  float64\n",
      " 25  Personal Loan             100000 non-null  float64\n",
      " 26  Debt Consolidation Loan   100000 non-null  float64\n",
      " 27  Student Loan              100000 non-null  float64\n",
      " 28  Payday Loan               100000 non-null  float64\n",
      " 29  Mortgage Loan             100000 non-null  float64\n",
      " 30  Auto Loan                 100000 non-null  float64\n",
      " 31  Home Equity Loan          100000 non-null  float64\n",
      "dtypes: float64(27), object(5)\n",
      "memory usage: 24.4+ MB\n"
     ]
    }
   ],
   "source": [
    "train_df.info()"
   ]
  },
  {
   "cell_type": "markdown",
   "id": "c5e23453-2a34-4b48-a27c-564077c15af7",
   "metadata": {},
   "source": [
    "## Detect Outliers"
   ]
  },
  {
   "cell_type": "code",
   "execution_count": null,
   "id": "7e212982-77d1-44b2-aae5-83a6116df048",
   "metadata": {},
   "outputs": [],
   "source": [
    "for col in Numericals :\n",
    "    outliers_indicies = detect_outliers(train_df,0,[col])\n",
    "    median = train_df[col].median()\n",
    "    train_df[col].iloc[outliers_indicies] = median"
   ]
  },
  {
   "cell_type": "code",
   "execution_count": 23,
   "id": "bf104ab6-2462-4562-9de8-2dc76d8c6421",
   "metadata": {},
   "outputs": [],
   "source": [
    "train_df.to_csv('./train_remove_outliers.csv',index=False)"
   ]
  },
  {
   "cell_type": "code",
   "execution_count": 24,
   "id": "9a903dbc-15bc-42fd-bf19-e708c60038cb",
   "metadata": {
    "tags": []
   },
   "outputs": [],
   "source": [
    "train_df = pd.read_csv('./train_remove_outliers.csv')"
   ]
  },
  {
   "cell_type": "markdown",
   "id": "f8da0b68-293b-488c-a5c1-a6f8d218b3f6",
   "metadata": {},
   "source": [
    "# Data Preprocessing"
   ]
  },
  {
   "cell_type": "markdown",
   "id": "399406a4-49e3-4600-9137-7af80fec7e97",
   "metadata": {},
   "source": [
    "## Handling Categorical Data"
   ]
  },
  {
   "cell_type": "code",
   "execution_count": null,
   "id": "cd168e15-0960-445b-914a-e7d3b53fe62f",
   "metadata": {},
   "outputs": [],
   "source": []
  }
 ],
 "metadata": {
  "kernelspec": {
   "display_name": "gpu",
   "language": "python",
   "name": "gpu"
  },
  "language_info": {
   "codemirror_mode": {
    "name": "ipython",
    "version": 3
   },
   "file_extension": ".py",
   "mimetype": "text/x-python",
   "name": "python",
   "nbconvert_exporter": "python",
   "pygments_lexer": "ipython3",
   "version": "3.10.13"
  }
 },
 "nbformat": 4,
 "nbformat_minor": 5
}
