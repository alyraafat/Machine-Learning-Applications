{
 "cells": [
  {
   "cell_type": "code",
   "execution_count": 1,
   "id": "1cff9d6c-e5b5-45be-b9e4-7b7710017cc7",
   "metadata": {},
   "outputs": [
    {
     "name": "stderr",
     "output_type": "stream",
     "text": [
      "A subdirectory or file C:\\Users\\001\\.kaggle already exists.\n"
     ]
    },
    {
     "name": "stdout",
     "output_type": "stream",
     "text": [
      "        1 file(s) copied.\n"
     ]
    }
   ],
   "source": [
    "!mkdir %userprofile%\\.kaggle\n",
    "!copy kaggle.json %userprofile%\\.kaggle\\"
   ]
  },
  {
   "cell_type": "code",
   "execution_count": null,
   "id": "0f25cc0a-a1c5-42c2-a37a-1309c4ad0e40",
   "metadata": {
    "tags": []
   },
   "outputs": [],
   "source": [
    "!kaggle datasets download -d dmitrybabko/speech-emotion-recognition-en"
   ]
  },
  {
   "cell_type": "markdown",
   "id": "5adbe8b7-4aad-4012-93ca-987c7c2f3273",
   "metadata": {},
   "source": [
    "https://www.kaggle.com/code/shivamburnwal/speech-emotion-recognition/notebook"
   ]
  },
  {
   "cell_type": "markdown",
   "id": "70d77c50-42a1-4599-9939-28ec15427c8e",
   "metadata": {},
   "source": [
    "https://github.com/nicknochnack/DeepAudioClassification/blob/main/AudioClassification.ipynb"
   ]
  },
  {
   "cell_type": "code",
   "execution_count": null,
   "id": "67c51d75-d153-440c-963d-ac27409c345e",
   "metadata": {
    "tags": []
   },
   "outputs": [],
   "source": [
    "!pip install librosa"
   ]
  },
  {
   "cell_type": "code",
   "execution_count": 3,
   "id": "3e13beeb-fb0f-4bb5-97b9-535067bcbec6",
   "metadata": {},
   "outputs": [],
   "source": [
    "import pandas as pd\n",
    "import numpy as np\n",
    "\n",
    "import os\n",
    "import sys\n",
    "\n",
    "# librosa is a Python library for analyzing audio and music. It can be used to extract the data from the audio files we will see it later.\n",
    "import librosa\n",
    "import librosa.display\n",
    "import seaborn as sns\n",
    "import matplotlib.pyplot as plt\n",
    "\n",
    "from sklearn.preprocessing import StandardScaler, OneHotEncoder\n",
    "from sklearn.metrics import confusion_matrix, classification_report\n",
    "from sklearn.model_selection import train_test_split\n",
    "\n",
    "# to play the audio files\n",
    "from IPython.display import Audio\n",
    "\n",
    "import keras\n",
    "from keras.callbacks import ReduceLROnPlateau\n",
    "from keras.models import Sequential\n",
    "from keras.layers import Dense, Conv1D, MaxPooling1D, Flatten, Dropout, BatchNormalization\n",
    "from keras.utils import np_utils, to_categorical\n",
    "from keras.callbacks import ModelCheckpoint"
   ]
  },
  {
   "cell_type": "code",
   "execution_count": 31,
   "id": "e0875bff-c866-49c7-a518-2ccd6068edea",
   "metadata": {
    "tags": []
   },
   "outputs": [],
   "source": [
    "pd.set_option('display.max_columns', None)\n",
    "pd.options.display.max_colwidth = 200"
   ]
  },
  {
   "cell_type": "code",
   "execution_count": 32,
   "id": "f083b8f0-1067-460b-ba87-db2cbbd158d1",
   "metadata": {
    "tags": []
   },
   "outputs": [],
   "source": [
    "Ravdess = \"./speech-emotion-recognition-en/Ravdess/audio_speech_actors_01-24/\"\n",
    "Crema = \"./speech-emotion-recognition-en/Crema/\"\n",
    "Tess = \"./speech-emotion-recognition-en/Tess/\"\n",
    "Savee = \"./speech-emotion-recognition-en/Savee/\""
   ]
  },
  {
   "cell_type": "markdown",
   "id": "6a619a34-14f4-48f1-ae1c-46c80ca822e6",
   "metadata": {},
   "source": [
    "# Ravdess Dataset"
   ]
  },
  {
   "cell_type": "code",
   "execution_count": 33,
   "id": "afb6aa59-28a7-4733-bbd1-31cd2fe0c1b1",
   "metadata": {
    "tags": []
   },
   "outputs": [
    {
     "data": {
      "text/html": [
       "<div>\n",
       "<style scoped>\n",
       "    .dataframe tbody tr th:only-of-type {\n",
       "        vertical-align: middle;\n",
       "    }\n",
       "\n",
       "    .dataframe tbody tr th {\n",
       "        vertical-align: top;\n",
       "    }\n",
       "\n",
       "    .dataframe thead th {\n",
       "        text-align: right;\n",
       "    }\n",
       "</style>\n",
       "<table border=\"1\" class=\"dataframe\">\n",
       "  <thead>\n",
       "    <tr style=\"text-align: right;\">\n",
       "      <th></th>\n",
       "      <th>Emotions</th>\n",
       "      <th>Paths</th>\n",
       "    </tr>\n",
       "  </thead>\n",
       "  <tbody>\n",
       "    <tr>\n",
       "      <th>0</th>\n",
       "      <td>neutral</td>\n",
       "      <td>./speech-emotion-recognition-en/Ravdess/audio_speech_actors_01-24/Actor_01/03-01-01-01-01-01-01.wav</td>\n",
       "    </tr>\n",
       "    <tr>\n",
       "      <th>1</th>\n",
       "      <td>neutral</td>\n",
       "      <td>./speech-emotion-recognition-en/Ravdess/audio_speech_actors_01-24/Actor_01/03-01-01-01-01-02-01.wav</td>\n",
       "    </tr>\n",
       "    <tr>\n",
       "      <th>2</th>\n",
       "      <td>neutral</td>\n",
       "      <td>./speech-emotion-recognition-en/Ravdess/audio_speech_actors_01-24/Actor_01/03-01-01-01-02-01-01.wav</td>\n",
       "    </tr>\n",
       "    <tr>\n",
       "      <th>3</th>\n",
       "      <td>neutral</td>\n",
       "      <td>./speech-emotion-recognition-en/Ravdess/audio_speech_actors_01-24/Actor_01/03-01-01-01-02-02-01.wav</td>\n",
       "    </tr>\n",
       "    <tr>\n",
       "      <th>4</th>\n",
       "      <td>calm</td>\n",
       "      <td>./speech-emotion-recognition-en/Ravdess/audio_speech_actors_01-24/Actor_01/03-01-02-01-01-01-01.wav</td>\n",
       "    </tr>\n",
       "  </tbody>\n",
       "</table>\n",
       "</div>"
      ],
      "text/plain": [
       "  Emotions  \\\n",
       "0  neutral   \n",
       "1  neutral   \n",
       "2  neutral   \n",
       "3  neutral   \n",
       "4     calm   \n",
       "\n",
       "                                                                                                 Paths  \n",
       "0  ./speech-emotion-recognition-en/Ravdess/audio_speech_actors_01-24/Actor_01/03-01-01-01-01-01-01.wav  \n",
       "1  ./speech-emotion-recognition-en/Ravdess/audio_speech_actors_01-24/Actor_01/03-01-01-01-01-02-01.wav  \n",
       "2  ./speech-emotion-recognition-en/Ravdess/audio_speech_actors_01-24/Actor_01/03-01-01-01-02-01-01.wav  \n",
       "3  ./speech-emotion-recognition-en/Ravdess/audio_speech_actors_01-24/Actor_01/03-01-01-01-02-02-01.wav  \n",
       "4  ./speech-emotion-recognition-en/Ravdess/audio_speech_actors_01-24/Actor_01/03-01-02-01-01-01-01.wav  "
      ]
     },
     "execution_count": 33,
     "metadata": {},
     "output_type": "execute_result"
    }
   ],
   "source": [
    "file_paths_ravdess = []\n",
    "file_emotions_ravdess = []\n",
    "actors = os.listdir(Ravdess)\n",
    "for actor in actors:\n",
    "    files = os.listdir(Ravdess+actor)\n",
    "    for file in files:\n",
    "        file_part = file.split('.')\n",
    "        file_part_2 = file_part[0].split('-')\n",
    "        emotion = int(file_part_2[2])\n",
    "        file_emotions_ravdess.append(emotion)\n",
    "        file_paths_ravdess.append(Ravdess+actor+'/'+file)\n",
    "ravdess_df = pd.DataFrame(zip(file_emotions_ravdess,file_paths_ravdess),columns=['Emotions','Paths'])\n",
    "ravdess_df.Emotions.replace({1:'neutral', 2:'calm', 3:'happy', 4:'sad', 5:'angry', 6:'fear', 7:'disgust', 8:'surprise'}, inplace=True)\n",
    "ravdess_df.head()"
   ]
  },
  {
   "cell_type": "markdown",
   "id": "6ff6ce5c-aabb-420d-803c-1d20378ecde8",
   "metadata": {},
   "source": [
    "# Crema Dataset"
   ]
  },
  {
   "cell_type": "code",
   "execution_count": 34,
   "id": "66fe2a53-ff96-4e51-958e-72cfe088078b",
   "metadata": {
    "tags": []
   },
   "outputs": [
    {
     "data": {
      "text/html": [
       "<div>\n",
       "<style scoped>\n",
       "    .dataframe tbody tr th:only-of-type {\n",
       "        vertical-align: middle;\n",
       "    }\n",
       "\n",
       "    .dataframe tbody tr th {\n",
       "        vertical-align: top;\n",
       "    }\n",
       "\n",
       "    .dataframe thead th {\n",
       "        text-align: right;\n",
       "    }\n",
       "</style>\n",
       "<table border=\"1\" class=\"dataframe\">\n",
       "  <thead>\n",
       "    <tr style=\"text-align: right;\">\n",
       "      <th></th>\n",
       "      <th>Emotions</th>\n",
       "      <th>Paths</th>\n",
       "    </tr>\n",
       "  </thead>\n",
       "  <tbody>\n",
       "    <tr>\n",
       "      <th>0</th>\n",
       "      <td>angry</td>\n",
       "      <td>./speech-emotion-recognition-en/Crema/1001_DFA_ANG_XX.wav</td>\n",
       "    </tr>\n",
       "    <tr>\n",
       "      <th>1</th>\n",
       "      <td>disgust</td>\n",
       "      <td>./speech-emotion-recognition-en/Crema/1001_DFA_DIS_XX.wav</td>\n",
       "    </tr>\n",
       "    <tr>\n",
       "      <th>2</th>\n",
       "      <td>fear</td>\n",
       "      <td>./speech-emotion-recognition-en/Crema/1001_DFA_FEA_XX.wav</td>\n",
       "    </tr>\n",
       "    <tr>\n",
       "      <th>3</th>\n",
       "      <td>happy</td>\n",
       "      <td>./speech-emotion-recognition-en/Crema/1001_DFA_HAP_XX.wav</td>\n",
       "    </tr>\n",
       "    <tr>\n",
       "      <th>4</th>\n",
       "      <td>neutral</td>\n",
       "      <td>./speech-emotion-recognition-en/Crema/1001_DFA_NEU_XX.wav</td>\n",
       "    </tr>\n",
       "  </tbody>\n",
       "</table>\n",
       "</div>"
      ],
      "text/plain": [
       "  Emotions                                                      Paths\n",
       "0    angry  ./speech-emotion-recognition-en/Crema/1001_DFA_ANG_XX.wav\n",
       "1  disgust  ./speech-emotion-recognition-en/Crema/1001_DFA_DIS_XX.wav\n",
       "2     fear  ./speech-emotion-recognition-en/Crema/1001_DFA_FEA_XX.wav\n",
       "3    happy  ./speech-emotion-recognition-en/Crema/1001_DFA_HAP_XX.wav\n",
       "4  neutral  ./speech-emotion-recognition-en/Crema/1001_DFA_NEU_XX.wav"
      ]
     },
     "execution_count": 34,
     "metadata": {},
     "output_type": "execute_result"
    }
   ],
   "source": [
    "files = os.listdir(Crema)\n",
    "file_paths_crema = []\n",
    "file_emotions_crema = []\n",
    "for file in files:\n",
    "    file_part = file.split('.')\n",
    "    file_part_2 = file_part[0].split('_')\n",
    "    emotion = file_part_2[2]\n",
    "    if emotion == 'SAD':\n",
    "        file_emotions_crema.append('sad')\n",
    "    elif emotion == 'ANG':\n",
    "        file_emotions_crema.append('angry')\n",
    "    elif emotion == 'DIS':\n",
    "        file_emotions_crema.append('disgust')\n",
    "    elif emotion == 'FEA':\n",
    "        file_emotions_crema.append('fear')\n",
    "    elif emotion == 'HAP':\n",
    "        file_emotions_crema.append('happy')\n",
    "    elif emotion == 'NEU':\n",
    "        file_emotions_crema.append('neutral')\n",
    "    else:\n",
    "        file_emotions_crema.append('Unknown')\n",
    "    file_paths_crema.append(Crema+file)\n",
    "\n",
    "crema_df = pd.DataFrame(zip(file_emotions_crema,file_paths_crema),columns=['Emotions','Paths'])\n",
    "crema_df.head()"
   ]
  },
  {
   "cell_type": "markdown",
   "id": "4bdd6f6f-4386-432b-9f05-d5cb0c7a2e34",
   "metadata": {},
   "source": [
    "# Tess Dataset"
   ]
  },
  {
   "cell_type": "code",
   "execution_count": 56,
   "id": "e4756525-e8ac-47b7-85c8-dd623c9b81f8",
   "metadata": {
    "tags": []
   },
   "outputs": [],
   "source": [
    "file_paths_tess = []\n",
    "file_emotions_tess = []\n",
    "dirs = os.listdir(Tess)\n",
    "for d in dirs:\n",
    "    files = os.listdir(Tess+d)\n",
    "    emotion_from_dir = d.split('_')[-1].lower()\n",
    "    emotion_from_dir = 'surprise' if emotion_from_dir=='surprised' else emotion_from_dir # because there is a folder named YAF_pleasant_surprised\n",
    "    file_emotions_tess+=[emotion_from_dir]*len(files)\n",
    "    for file in files:\n",
    "        file_paths_tess.append(Tess+d+'/'+file)\n",
    "tess_df = pd.DataFrame(zip(file_emotions_tess,file_paths_tess),columns=['Emotions','Paths'])"
   ]
  },
  {
   "cell_type": "code",
   "execution_count": 57,
   "id": "5342f051-5ab5-4323-8117-16e0e730e4cc",
   "metadata": {
    "tags": []
   },
   "outputs": [
    {
     "data": {
      "text/html": [
       "<div>\n",
       "<style scoped>\n",
       "    .dataframe tbody tr th:only-of-type {\n",
       "        vertical-align: middle;\n",
       "    }\n",
       "\n",
       "    .dataframe tbody tr th {\n",
       "        vertical-align: top;\n",
       "    }\n",
       "\n",
       "    .dataframe thead th {\n",
       "        text-align: right;\n",
       "    }\n",
       "</style>\n",
       "<table border=\"1\" class=\"dataframe\">\n",
       "  <thead>\n",
       "    <tr style=\"text-align: right;\">\n",
       "      <th></th>\n",
       "      <th>Emotions</th>\n",
       "      <th>Paths</th>\n",
       "    </tr>\n",
       "  </thead>\n",
       "  <tbody>\n",
       "    <tr>\n",
       "      <th>1062</th>\n",
       "      <td>surprise</td>\n",
       "      <td>./speech-emotion-recognition-en/Tess/OAF_Pleasant_surprise/OAF_hole_ps.wav</td>\n",
       "    </tr>\n",
       "    <tr>\n",
       "      <th>785</th>\n",
       "      <td>happy</td>\n",
       "      <td>./speech-emotion-recognition-en/Tess/OAF_happy/OAF_walk_happy.wav</td>\n",
       "    </tr>\n",
       "    <tr>\n",
       "      <th>1689</th>\n",
       "      <td>disgust</td>\n",
       "      <td>./speech-emotion-recognition-en/Tess/YAF_disgust/YAF_loaf_disgust.wav</td>\n",
       "    </tr>\n",
       "    <tr>\n",
       "      <th>535</th>\n",
       "      <td>fear</td>\n",
       "      <td>./speech-emotion-recognition-en/Tess/OAF_Fear/OAF_red_fear.wav</td>\n",
       "    </tr>\n",
       "    <tr>\n",
       "      <th>1595</th>\n",
       "      <td>angry</td>\n",
       "      <td>./speech-emotion-recognition-en/Tess/YAF_angry/YAF_witch_angry.wav</td>\n",
       "    </tr>\n",
       "    <tr>\n",
       "      <th>2116</th>\n",
       "      <td>happy</td>\n",
       "      <td>./speech-emotion-recognition-en/Tess/YAF_happy/YAF_page_happy.wav</td>\n",
       "    </tr>\n",
       "    <tr>\n",
       "      <th>843</th>\n",
       "      <td>neutral</td>\n",
       "      <td>./speech-emotion-recognition-en/Tess/OAF_neutral/OAF_gap_neutral.wav</td>\n",
       "    </tr>\n",
       "    <tr>\n",
       "      <th>1269</th>\n",
       "      <td>sad</td>\n",
       "      <td>./speech-emotion-recognition-en/Tess/OAF_Sad/OAF_judge_sad.wav</td>\n",
       "    </tr>\n",
       "    <tr>\n",
       "      <th>2650</th>\n",
       "      <td>sad</td>\n",
       "      <td>./speech-emotion-recognition-en/Tess/YAF_sad/YAF_goal_sad.wav</td>\n",
       "    </tr>\n",
       "    <tr>\n",
       "      <th>1417</th>\n",
       "      <td>angry</td>\n",
       "      <td>./speech-emotion-recognition-en/Tess/YAF_angry/YAF_chair_angry.wav</td>\n",
       "    </tr>\n",
       "  </tbody>\n",
       "</table>\n",
       "</div>"
      ],
      "text/plain": [
       "      Emotions  \\\n",
       "1062  surprise   \n",
       "785      happy   \n",
       "1689   disgust   \n",
       "535       fear   \n",
       "1595     angry   \n",
       "2116     happy   \n",
       "843    neutral   \n",
       "1269       sad   \n",
       "2650       sad   \n",
       "1417     angry   \n",
       "\n",
       "                                                                           Paths  \n",
       "1062  ./speech-emotion-recognition-en/Tess/OAF_Pleasant_surprise/OAF_hole_ps.wav  \n",
       "785            ./speech-emotion-recognition-en/Tess/OAF_happy/OAF_walk_happy.wav  \n",
       "1689       ./speech-emotion-recognition-en/Tess/YAF_disgust/YAF_loaf_disgust.wav  \n",
       "535               ./speech-emotion-recognition-en/Tess/OAF_Fear/OAF_red_fear.wav  \n",
       "1595          ./speech-emotion-recognition-en/Tess/YAF_angry/YAF_witch_angry.wav  \n",
       "2116           ./speech-emotion-recognition-en/Tess/YAF_happy/YAF_page_happy.wav  \n",
       "843         ./speech-emotion-recognition-en/Tess/OAF_neutral/OAF_gap_neutral.wav  \n",
       "1269              ./speech-emotion-recognition-en/Tess/OAF_Sad/OAF_judge_sad.wav  \n",
       "2650               ./speech-emotion-recognition-en/Tess/YAF_sad/YAF_goal_sad.wav  \n",
       "1417          ./speech-emotion-recognition-en/Tess/YAF_angry/YAF_chair_angry.wav  "
      ]
     },
     "execution_count": 57,
     "metadata": {},
     "output_type": "execute_result"
    }
   ],
   "source": [
    "tess_df.sample(10)"
   ]
  },
  {
   "cell_type": "markdown",
   "id": "fa44f4b9-f1bf-41c0-a409-7c77ff7b4fc1",
   "metadata": {},
   "source": [
    "# Savee Dataset"
   ]
  },
  {
   "cell_type": "code",
   "execution_count": 58,
   "id": "59a6aaab-9469-4a22-a40d-aeab61de90c5",
   "metadata": {
    "tags": []
   },
   "outputs": [],
   "source": [
    "savee_directory_list = os.listdir(Savee)\n",
    "\n",
    "file_emotions_savee = []\n",
    "file_paths_savee = []\n",
    "\n",
    "for file in savee_directory_list:\n",
    "    file_paths_savee.append(Savee + file)\n",
    "    part = file.split('_')[1]\n",
    "    ele = part[:-6]\n",
    "    if ele=='a':\n",
    "        file_emotions_savee.append('angry')\n",
    "    elif ele=='d':\n",
    "        file_emotions_savee.append('disgust')\n",
    "    elif ele=='f':\n",
    "        file_emotions_savee.append('fear')\n",
    "    elif ele=='h':\n",
    "        file_emotions_savee.append('happy')\n",
    "    elif ele=='n':\n",
    "        file_emotions_savee.append('neutral')\n",
    "    elif ele=='sa':\n",
    "        file_emotions_savee.append('sad')\n",
    "    else:\n",
    "        file_emotions_savee.append('surprise')\n",
    "        \n",
    "savee_df = pd.DataFrame(zip(file_emotions_savee,file_paths_savee), columns=['Emotions','Paths'])"
   ]
  },
  {
   "cell_type": "code",
   "execution_count": 59,
   "id": "ce3de0db-0d8d-4838-ac34-6b8cbc3377ce",
   "metadata": {
    "tags": []
   },
   "outputs": [
    {
     "data": {
      "text/html": [
       "<div>\n",
       "<style scoped>\n",
       "    .dataframe tbody tr th:only-of-type {\n",
       "        vertical-align: middle;\n",
       "    }\n",
       "\n",
       "    .dataframe tbody tr th {\n",
       "        vertical-align: top;\n",
       "    }\n",
       "\n",
       "    .dataframe thead th {\n",
       "        text-align: right;\n",
       "    }\n",
       "</style>\n",
       "<table border=\"1\" class=\"dataframe\">\n",
       "  <thead>\n",
       "    <tr style=\"text-align: right;\">\n",
       "      <th></th>\n",
       "      <th>Emotions</th>\n",
       "      <th>Paths</th>\n",
       "    </tr>\n",
       "  </thead>\n",
       "  <tbody>\n",
       "    <tr>\n",
       "      <th>78</th>\n",
       "      <td>neutral</td>\n",
       "      <td>./speech-emotion-recognition-en/Savee/DC_n19.wav</td>\n",
       "    </tr>\n",
       "    <tr>\n",
       "      <th>13</th>\n",
       "      <td>angry</td>\n",
       "      <td>./speech-emotion-recognition-en/Savee/DC_a14.wav</td>\n",
       "    </tr>\n",
       "    <tr>\n",
       "      <th>434</th>\n",
       "      <td>neutral</td>\n",
       "      <td>./speech-emotion-recognition-en/Savee/KL_n15.wav</td>\n",
       "    </tr>\n",
       "    <tr>\n",
       "      <th>439</th>\n",
       "      <td>neutral</td>\n",
       "      <td>./speech-emotion-recognition-en/Savee/KL_n20.wav</td>\n",
       "    </tr>\n",
       "    <tr>\n",
       "      <th>5</th>\n",
       "      <td>angry</td>\n",
       "      <td>./speech-emotion-recognition-en/Savee/DC_a06.wav</td>\n",
       "    </tr>\n",
       "    <tr>\n",
       "      <th>387</th>\n",
       "      <td>disgust</td>\n",
       "      <td>./speech-emotion-recognition-en/Savee/KL_d13.wav</td>\n",
       "    </tr>\n",
       "    <tr>\n",
       "      <th>462</th>\n",
       "      <td>sad</td>\n",
       "      <td>./speech-emotion-recognition-en/Savee/KL_sa13.wav</td>\n",
       "    </tr>\n",
       "    <tr>\n",
       "      <th>40</th>\n",
       "      <td>fear</td>\n",
       "      <td>./speech-emotion-recognition-en/Savee/DC_f11.wav</td>\n",
       "    </tr>\n",
       "    <tr>\n",
       "      <th>332</th>\n",
       "      <td>sad</td>\n",
       "      <td>./speech-emotion-recognition-en/Savee/JK_sa03.wav</td>\n",
       "    </tr>\n",
       "    <tr>\n",
       "      <th>436</th>\n",
       "      <td>neutral</td>\n",
       "      <td>./speech-emotion-recognition-en/Savee/KL_n17.wav</td>\n",
       "    </tr>\n",
       "  </tbody>\n",
       "</table>\n",
       "</div>"
      ],
      "text/plain": [
       "    Emotions                                              Paths\n",
       "78   neutral   ./speech-emotion-recognition-en/Savee/DC_n19.wav\n",
       "13     angry   ./speech-emotion-recognition-en/Savee/DC_a14.wav\n",
       "434  neutral   ./speech-emotion-recognition-en/Savee/KL_n15.wav\n",
       "439  neutral   ./speech-emotion-recognition-en/Savee/KL_n20.wav\n",
       "5      angry   ./speech-emotion-recognition-en/Savee/DC_a06.wav\n",
       "387  disgust   ./speech-emotion-recognition-en/Savee/KL_d13.wav\n",
       "462      sad  ./speech-emotion-recognition-en/Savee/KL_sa13.wav\n",
       "40      fear   ./speech-emotion-recognition-en/Savee/DC_f11.wav\n",
       "332      sad  ./speech-emotion-recognition-en/Savee/JK_sa03.wav\n",
       "436  neutral   ./speech-emotion-recognition-en/Savee/KL_n17.wav"
      ]
     },
     "execution_count": 59,
     "metadata": {},
     "output_type": "execute_result"
    }
   ],
   "source": [
    "savee_df.sample(10)"
   ]
  },
  {
   "cell_type": "markdown",
   "id": "024aa609-3ccd-4ea3-b2d9-61f5f4dae1d6",
   "metadata": {},
   "source": [
    "# Concatenate whole dataframes"
   ]
  },
  {
   "cell_type": "code",
   "execution_count": 60,
   "id": "c4bfb30d-c837-4024-9a9e-7632349e2f00",
   "metadata": {
    "tags": []
   },
   "outputs": [],
   "source": [
    "data_df = pd.concat([ravdess_df,crema_df,tess_df,savee_df],axis=0)"
   ]
  },
  {
   "cell_type": "code",
   "execution_count": 61,
   "id": "2faf9b41-99f1-4f14-b097-fad1841c92f0",
   "metadata": {
    "tags": []
   },
   "outputs": [
    {
     "data": {
      "text/html": [
       "<div>\n",
       "<style scoped>\n",
       "    .dataframe tbody tr th:only-of-type {\n",
       "        vertical-align: middle;\n",
       "    }\n",
       "\n",
       "    .dataframe tbody tr th {\n",
       "        vertical-align: top;\n",
       "    }\n",
       "\n",
       "    .dataframe thead th {\n",
       "        text-align: right;\n",
       "    }\n",
       "</style>\n",
       "<table border=\"1\" class=\"dataframe\">\n",
       "  <thead>\n",
       "    <tr style=\"text-align: right;\">\n",
       "      <th></th>\n",
       "      <th>Emotions</th>\n",
       "      <th>Paths</th>\n",
       "    </tr>\n",
       "  </thead>\n",
       "  <tbody>\n",
       "    <tr>\n",
       "      <th>881</th>\n",
       "      <td>neutral</td>\n",
       "      <td>./speech-emotion-recognition-en/Crema/1011_TSI_NEU_XX.wav</td>\n",
       "    </tr>\n",
       "    <tr>\n",
       "      <th>1713</th>\n",
       "      <td>disgust</td>\n",
       "      <td>./speech-emotion-recognition-en/Crema/1022_IEO_DIS_LO.wav</td>\n",
       "    </tr>\n",
       "    <tr>\n",
       "      <th>952</th>\n",
       "      <td>surprise</td>\n",
       "      <td>./speech-emotion-recognition-en/Ravdess/audio_speech_actors_01-24/Actor_16/03-01-08-01-01-01-16.wav</td>\n",
       "    </tr>\n",
       "    <tr>\n",
       "      <th>5165</th>\n",
       "      <td>neutral</td>\n",
       "      <td>./speech-emotion-recognition-en/Crema/1064_IEO_NEU_XX.wav</td>\n",
       "    </tr>\n",
       "    <tr>\n",
       "      <th>664</th>\n",
       "      <td>happy</td>\n",
       "      <td>./speech-emotion-recognition-en/Crema/1009_IEO_HAP_HI.wav</td>\n",
       "    </tr>\n",
       "    <tr>\n",
       "      <th>2050</th>\n",
       "      <td>sad</td>\n",
       "      <td>./speech-emotion-recognition-en/Crema/1026_IEO_SAD_HI.wav</td>\n",
       "    </tr>\n",
       "    <tr>\n",
       "      <th>2804</th>\n",
       "      <td>disgust</td>\n",
       "      <td>./speech-emotion-recognition-en/Crema/1035_ITS_DIS_XX.wav</td>\n",
       "    </tr>\n",
       "    <tr>\n",
       "      <th>2752</th>\n",
       "      <td>sad</td>\n",
       "      <td>./speech-emotion-recognition-en/Tess/YAF_sad/YAF_sheep_sad.wav</td>\n",
       "    </tr>\n",
       "    <tr>\n",
       "      <th>2202</th>\n",
       "      <td>angry</td>\n",
       "      <td>./speech-emotion-recognition-en/Crema/1028_IEO_ANG_LO.wav</td>\n",
       "    </tr>\n",
       "    <tr>\n",
       "      <th>1114</th>\n",
       "      <td>happy</td>\n",
       "      <td>./speech-emotion-recognition-en/Crema/1014_TAI_HAP_XX.wav</td>\n",
       "    </tr>\n",
       "  </tbody>\n",
       "</table>\n",
       "</div>"
      ],
      "text/plain": [
       "      Emotions  \\\n",
       "881    neutral   \n",
       "1713   disgust   \n",
       "952   surprise   \n",
       "5165   neutral   \n",
       "664      happy   \n",
       "2050       sad   \n",
       "2804   disgust   \n",
       "2752       sad   \n",
       "2202     angry   \n",
       "1114     happy   \n",
       "\n",
       "                                                                                                    Paths  \n",
       "881                                             ./speech-emotion-recognition-en/Crema/1011_TSI_NEU_XX.wav  \n",
       "1713                                            ./speech-emotion-recognition-en/Crema/1022_IEO_DIS_LO.wav  \n",
       "952   ./speech-emotion-recognition-en/Ravdess/audio_speech_actors_01-24/Actor_16/03-01-08-01-01-01-16.wav  \n",
       "5165                                            ./speech-emotion-recognition-en/Crema/1064_IEO_NEU_XX.wav  \n",
       "664                                             ./speech-emotion-recognition-en/Crema/1009_IEO_HAP_HI.wav  \n",
       "2050                                            ./speech-emotion-recognition-en/Crema/1026_IEO_SAD_HI.wav  \n",
       "2804                                            ./speech-emotion-recognition-en/Crema/1035_ITS_DIS_XX.wav  \n",
       "2752                                       ./speech-emotion-recognition-en/Tess/YAF_sad/YAF_sheep_sad.wav  \n",
       "2202                                            ./speech-emotion-recognition-en/Crema/1028_IEO_ANG_LO.wav  \n",
       "1114                                            ./speech-emotion-recognition-en/Crema/1014_TAI_HAP_XX.wav  "
      ]
     },
     "execution_count": 61,
     "metadata": {},
     "output_type": "execute_result"
    }
   ],
   "source": [
    "data_df.sample(10)"
   ]
  },
  {
   "cell_type": "code",
   "execution_count": 66,
   "id": "08b96d3a-7e77-49bd-927a-966f1d338080",
   "metadata": {
    "tags": []
   },
   "outputs": [
    {
     "data": {
      "image/png": "[encoded data removed]",
      "text/plain": [
       "<Figure size 640x480 with 1 Axes>"
      ]
     },
     "metadata": {},
     "output_type": "display_data"
    }
   ],
   "source": [
    "plt.title('Count of Emotions', size=16)\n",
    "sns.countplot(data_df.Emotions)\n",
    "plt.ylabel('Count', size=12)\n",
    "plt.xlabel('Emotions', size=12)\n",
    "sns.despine(top=True, right=True, left=False, bottom=False)\n",
    "plt.show()"
   ]
  },
  {
   "cell_type": "code",
   "execution_count": null,
   "id": "62064d36-2b0f-456b-96c7-7b739296852d",
   "metadata": {},
   "outputs": [],
   "source": []
  }
 ],
 "metadata": {
  "kernelspec": {
   "display_name": "gpu",
   "language": "python",
   "name": "gpu"
  },
  "language_info": {
   "codemirror_mode": {
    "name": "ipython",
    "version": 3
   },
   "file_extension": ".py",
   "mimetype": "text/x-python",
   "name": "python",
   "nbconvert_exporter": "python",
   "pygments_lexer": "ipython3",
   "version": "3.10.13"
  }
 },
 "nbformat": 4,
 "nbformat_minor": 5
}
